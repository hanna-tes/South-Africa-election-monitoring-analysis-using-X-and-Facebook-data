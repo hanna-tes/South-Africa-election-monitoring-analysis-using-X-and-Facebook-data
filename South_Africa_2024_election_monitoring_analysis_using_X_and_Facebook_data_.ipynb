{
  "cells": [
    {
      "cell_type": "code",
      "execution_count": null,
      "metadata": {
        "id": "RRzH-ue2K3HN"
      },
      "outputs": [],
      "source": [
        "import numpy as np\n",
        "import pandas as pd\n",
        "import re\n",
        "import nltk\n",
        "from nltk.corpus import stopwords\n",
        "from nltk.stem import WordNetLemmatizer\n",
        "from nltk.tokenize import word_tokenize\n",
        "nltk.download('stopwords')\n",
        "nltk.download('wordnet')"
      ]
    },
    {
      "cell_type": "markdown",
      "source": [
        "**X Data analysis**"
      ],
      "metadata": {
        "id": "Gynctk821HrD"
      }
    },
    {
      "cell_type": "code",
      "execution_count": null,
      "metadata": {
        "id": "-7LIzdJqMODx"
      },
      "outputs": [],
      "source": [
        "data = pd.read_csv(\"path to the csv file\",\n",
        "                encoding='cp1252', low_memory=False)"
      ]
    },
    {
      "cell_type": "code",
      "execution_count": null,
      "metadata": {
        "id": "W_WfcUGYMOTA"
      },
      "outputs": [],
      "source": [
        "#remove duplicate\n",
        "data=data.drop_duplicates().reset_index().drop('index', axis=1)"
      ]
    },
    {
      "cell_type": "code",
      "execution_count": null,
      "metadata": {
        "id": "wVItGLyBMOYF"
      },
      "outputs": [],
      "source": [
        "data.rename(columns={'Hit Sentence' :'tweet'},inplace=True)"
      ]
    },
    {
      "cell_type": "code",
      "execution_count": null,
      "metadata": {
        "id": "t7sGcvp5MObX",
        "outputId": "c37037bd-d386-45ee-ba06-cb483d533866"
      },
      "outputs": [
        {
          "data": {
            "text/plain": [
              "Index(['Date', 'Headline', 'URL', 'Opening Text', 'tweet', 'Source',\n",
              "       'Influencer', 'Country', 'Subregion', 'Language', 'Reach',\n",
              "       'Desktop Reach', 'Mobile Reach', 'Twitter Social Echo',\n",
              "       'Facebook Social Echo', 'Reddit Social Echo', 'National Viewership',\n",
              "       'Engagement', 'AVE', 'Sentiment', 'Key Phrases', 'Input Name',\n",
              "       'Keywords', 'Twitter Authority', 'Tweet Id', 'Twitter Id',\n",
              "       'Twitter Client', 'Twitter Screen Name', 'User Profile Url',\n",
              "       'Twitter Bio', 'Twitter Followers', 'Twitter Following',\n",
              "       'Alternate Date Format', 'Time', 'State', 'City', 'Social Echo Total',\n",
              "       'Editorial Echo', 'Views', 'Estimated Views', 'Likes', 'Replies',\n",
              "       'Retweets', 'Comments', 'Shares', 'Reactions', 'Threads', 'Is Verified',\n",
              "       'Parent URL', 'Document Tags', 'Document ID'],\n",
              "      dtype='object')"
            ]
          },
          "execution_count": 7,
          "metadata": {},
          "output_type": "execute_result"
        }
      ],
      "source": [
        "data.columns"
      ]
    },
    {
      "cell_type": "code",
      "execution_count": null,
      "metadata": {
        "id": "N0AXR7eQMOep",
        "outputId": "5df26c1e-f43d-4727-b3c9-5d01e9ac3068"
      },
      "outputs": [
        {
          "data": {
            "text/plain": [
              "(19664, 51)"
            ]
          },
          "execution_count": 8,
          "metadata": {},
          "output_type": "execute_result"
        }
      ],
      "source": [
        "data.shape"
      ]
    },
    {
      "cell_type": "code",
      "execution_count": null,
      "metadata": {
        "id": "qiqWPMF6xwoy"
      },
      "outputs": [],
      "source": [
        "data.head()"
      ]
    },
    {
      "cell_type": "code",
      "execution_count": null,
      "metadata": {
        "id": "XvKDuv7gMOhe"
      },
      "outputs": [],
      "source": [
        " #remove tweets with phone numbers\n",
        "data=data.copy()\n",
        "k=[]\n",
        "for i in range(data.shape[0]):\n",
        "    if re.findall(\"\\d{10}|\\d{9}\", data.loc[i, 'tweet'])!=[]:\n",
        "        k.append(re.findall(\"\\d{10}|\\d{9}\", data.loc[i, 'tweet'])[0])\n",
        "for j in k:\n",
        "    data=data[~data['tweet'].str.contains(j)].reset_index().drop('index', axis=1)"
      ]
    },
    {
      "cell_type": "code",
      "execution_count": null,
      "metadata": {
        "id": "4bTd5ZDAMOkX"
      },
      "outputs": [],
      "source": [
        "data.tweet = data.apply(lambda row: re.sub(r\"http\\S+\", \"\", row.tweet).lower(), 1) #remove links inside the tweets\n",
        "data.tweet = data.apply(lambda row: re.sub(r\"\\\\n\", \",\", row.tweet).lower(), 1) #remove tabulation inside the tweets\n",
        "data.tweet= data.apply(lambda row: re.sub(r\"\\\\r\", \",\", row.tweet).lower(), 1) #remove tabulation inside the tweets\n",
        "data.tweet = data.apply(lambda row: re.sub(r\"\\\\t\", \",\", row.tweet).lower(), 1) #remove tabulation inside the tweets"
      ]
    },
    {
      "cell_type": "code",
      "execution_count": null,
      "metadata": {
        "id": "S0G0rZPwWTcn"
      },
      "outputs": [],
      "source": [
        "stop_words = set(stopwords.words('english'))\n",
        "lemmatizer = WordNetLemmatizer()\n",
        "\n",
        "def preprocess_text(text):\n",
        "    words = word_tokenize(str(text))\n",
        "    words = [word.lower() for word in words if word.isalpha() and word not in stop_words]\n",
        "    words = [lemmatizer.lemmatize(word) for word in words]\n",
        "    return \" \".join(words)\n",
        "\n",
        "data['clean_text'] = data['text'].apply(preprocess_text)"
      ]
    },
    {
      "cell_type": "code",
      "execution_count": null,
      "metadata": {
        "id": "opmfjabPMOnc",
        "outputId": "227a4317-bd9d-4a52-9581-d3b331e781a2"
      },
      "outputs": [
        {
          "data": {
            "text/plain": [
              "0\n",
              "#malemaforsapresident           374\n",
              "#votemk2024                     184\n",
              "#rescuesa                       144\n",
              "#effmustrise                    136\n",
              "#voteda                         102\n",
              "#2024isour1994                  102\n",
              "#phalaphalafarmgate              97\n",
              "#cr17bankstatements              86\n",
              "#efffreestatemanifestolaunch     73\n",
              "#unsecuritycouncil               62\n",
              "#freecongo                       52\n",
              "#voteeff2024                     46\n",
              "#thegathering24                  38\n",
              "#zuma                            37\n",
              "#malema                          35\n",
              "#votemk                          32\n",
              "#humanrightsmonth2024            31\n",
              "#trackingthabobester             31\n",
              "#anc                             27\n",
              "#pirates                         27\n",
              "#sabcnews                        27\n",
              "#humanrightsconferencesa         26\n",
              "#votemk_29may2024                26\n",
              "#earthquake                      22\n",
              "#denelarmsdeal                   20\n",
              "#papaghost                       20\n",
              "#tintswalo                       20\n",
              "#kleptocracy                     20\n",
              "#zumastatecapture                20\n",
              "#defendourdemocracy              20\n",
              "Name: count, dtype: int64"
            ]
          },
          "execution_count": 14,
          "metadata": {},
          "output_type": "execute_result"
        }
      ],
      "source": [
        "#Find out most used hashtag\n",
        "hashtags = data.tweet.str.extractall('(#\\w+)')\n",
        "\n",
        "\n",
        "hashtags[0].value_counts()[:30]"
      ]
    },
    {
      "cell_type": "code",
      "execution_count": null,
      "metadata": {
        "id": "2Pxv4HquMOqn",
        "outputId": "888692c5-a6e5-4a1d-d3dd-d6bfc4c72cfa"
      },
      "outputs": [
        {
          "data": {
            "text/plain": [
              "0\n",
              "@mdnnewss           1818\n",
              "@stats_feed         1192\n",
              "@effsouthafrica     1096\n",
              "@areafada1           951\n",
              "@julius_s_malema     817\n",
              "@nyebe_official      746\n",
              "@gentlements         613\n",
              "@constitution_94     529\n",
              "@goolammv            440\n",
              "@miz_ruraltarain     431\n",
              "@moyaprof            426\n",
              "@patricia_bantom     385\n",
              "@news24              376\n",
              "@newslivesa          376\n",
              "@thisiscolbert       344\n",
              "@naledichirwa        342\n",
              "@jsteenhuisen        333\n",
              "@mzwanelemanyi       322\n",
              "@amukelanimoyani     301\n",
              "@our_da              277\n",
              "Name: count, dtype: int64"
            ]
          },
          "execution_count": 15,
          "metadata": {},
          "output_type": "execute_result"
        }
      ],
      "source": [
        "#TOP MENTIONS\n",
        "mentions = data.tweet.str.extractall('(@\\w+)')\n",
        "mentions[0].value_counts()[:20]"
      ]
    },
    {
      "cell_type": "code",
      "execution_count": null,
      "metadata": {
        "id": "2z9ifwVpMOtU",
        "outputId": "14b012d8-700f-464a-a8f1-818178b1fb68"
      },
      "outputs": [
        {
          "data": {
            "text/plain": [
              "Language\n",
              "English                  19483\n",
              "Maori                       27\n",
              "Portuguese                  25\n",
              "Afrikaans                   21\n",
              "Indonesian                  19\n",
              "Malay (macrolanguage)       10\n",
              "Turkish                      9\n",
              "Waray (Philippines)          8\n",
              "Cebuano                      7\n",
              "Spanish                      6\n",
              "Name: count, dtype: int64"
            ]
          },
          "execution_count": 16,
          "metadata": {},
          "output_type": "execute_result"
        }
      ],
      "source": [
        "#Top 10 Languages of Tweets\n",
        "data['Language'].value_counts()[:10]"
      ]
    },
    {
      "cell_type": "code",
      "execution_count": null,
      "metadata": {
        "id": "fukgxA17YV1Y"
      },
      "outputs": [],
      "source": [
        "#sources(accounts) that recived more than 1000k retweets\n",
        "source=data['source'].value_counts().loc[lambda x: x>100]"
      ]
    },
    {
      "cell_type": "code",
      "execution_count": null,
      "metadata": {
        "id": "96bTotpXYZTp"
      },
      "outputs": [],
      "source": [
        "#we have 196 accounts that recived the most number of retweets\n",
        "source.shape"
      ]
    },
    {
      "cell_type": "code",
      "execution_count": null,
      "metadata": {
        "id": "-x6-aJnBYhrU"
      },
      "outputs": [],
      "source": [
        "#top 10 accounts\n",
        "source.head(10)"
      ]
    },
    {
      "cell_type": "code",
      "execution_count": null,
      "metadata": {
        "id": "Gws0DxR_Y0Cg"
      },
      "outputs": [],
      "source": [
        "pd.options.display.max_colwidth = 200\n",
        "data['tweet'].value_counts().rename_axis('Tweets').reset_index(name='counts')[:20]"
      ]
    },
    {
      "cell_type": "code",
      "execution_count": null,
      "metadata": {
        "id": "w_kXuOLgMOwV"
      },
      "outputs": [],
      "source": [
        "data_retweets=data[data['tweet'].str.startswith('rt')].reset_index().drop('index', axis=1)# retweets dataset\n",
        "import re\n",
        "\n",
        "# Extract retweeted accounts\n",
        "data_retweets['retweeted'] = data_retweets['tweet'].apply(lambda x: re.findall('rt @([_a-zA-Z-0123456789]+)', x))\n",
        "\n",
        "# Remove retweet symbol \"rt\" and the account name inside the tweets of retweets dataset\n",
        "data_retweets['tweet'] = data_retweets['tweet'].apply(lambda row: re.sub(r\"rt @\\S+\", \"\", row).lower())"
      ]
    },
    {
      "cell_type": "code",
      "execution_count": null,
      "metadata": {
        "id": "bw4oYPnKZZxL",
        "outputId": "cab7aef3-332e-4c96-bc78-0d2f80359b36"
      },
      "outputs": [
        {
          "data": {
            "image/png": "[encoded data removed]",
            "text/plain": [
              "<Figure size 600x500 with 1 Axes>"
            ]
          },
          "metadata": {},
          "output_type": "display_data"
        }
      ],
      "source": [
        "import matplotlib.pyplot as plt\n",
        "import seaborn as sns\n",
        "plt.figure(figsize=(6,5))\n",
        "plt.title(\"Number of records of sentiments\")\n",
        "plot = sns.countplot(x = 'Sentiment', data=data)\n",
        "for p in plot.patches:\n",
        "    plot.annotate(p.get_height(),(p.get_x()+0.1 ,p.get_height()+50))"
      ]
    },
    {
      "cell_type": "code",
      "execution_count": null,
      "metadata": {
        "id": "5DMK1IRLMOzI"
      },
      "outputs": [],
      "source": [
        "#filter by language\n",
        "#data_retweets['Language'].value_counts().plot.pie()\n",
        "data=data[data['Language'].str.contains(\"English\")].reset_index().drop('index', axis=1)\n",
        "data_retweets=data_retweets[data_retweets['Language'].str.contains(\"English\")].reset_index().drop('index', axis=1)"
      ]
    },
    {
      "cell_type": "code",
      "execution_count": null,
      "metadata": {
        "id": "1zacgD1dxwo2"
      },
      "outputs": [],
      "source": [
        "for i in range(data.shape[0]):\n",
        "    data.loc[i, 'Count']=1"
      ]
    },
    {
      "cell_type": "code",
      "execution_count": null,
      "metadata": {
        "id": "7CLJgX18MO2E",
        "outputId": "96895788-84de-43d2-d628-fef5cea6d8c0"
      },
      "outputs": [
        {
          "name": "stderr",
          "output_type": "stream",
          "text": [
            "C:\\Users\\Heineken\\AppData\\Local\\Temp\\ipykernel_10928\\2527158134.py:3: FutureWarning: The provided callable <function sum at 0x000001FEFDE2CCC0> is currently using DataFrameGroupBy.sum. In a future version of pandas, the provided callable will be used directly. To keep current behavior pass the string \"sum\" instead.\n",
            "  data_Ls=data.pivot_table(values=['Count'], index='Alternate Date Format', aggfunc=np.sum).reset_index().sort_values('Count', ascending=False).head(30)\n",
            "C:\\Users\\Heineken\\anaconda3\\Lib\\site-packages\\altair\\utils\\core.py:395: FutureWarning: the convert_dtype parameter is deprecated and will be removed in a future version.  Do ``ser.astype(object).apply()`` instead if you want ``convert_dtype=False``.\n",
            "  col = df[col_name].apply(to_list_if_array, convert_dtype=False)\n"
          ]
        },
        {
          "data": {
            "text/html": [
              "\n",
              "<style>\n",
              "  #altair-viz-e92b9ac46c3b43089e8cc884e20a188f.vega-embed {\n",
              "    width: 100%;\n",
              "    display: flex;\n",
              "  }\n",
              "\n",
              "  #altair-viz-e92b9ac46c3b43089e8cc884e20a188f.vega-embed details,\n",
              "  #altair-viz-e92b9ac46c3b43089e8cc884e20a188f.vega-embed details summary {\n",
              "    position: relative;\n",
              "  }\n",
              "</style>\n",
              "<div id=\"altair-viz-e92b9ac46c3b43089e8cc884e20a188f\"></div>\n",
              "<script type=\"text/javascript\">\n",
              "  var VEGA_DEBUG = (typeof VEGA_DEBUG == \"undefined\") ? {} : VEGA_DEBUG;\n",
              "  (function(spec, embedOpt){\n",
              "    let outputDiv = document.currentScript.previousElementSibling;\n",
              "    if (outputDiv.id !== \"altair-viz-e92b9ac46c3b43089e8cc884e20a188f\") {\n",
              "      outputDiv = document.getElementById(\"altair-viz-e92b9ac46c3b43089e8cc884e20a188f\");\n",
              "    }\n",
              "    const paths = {\n",
              "      \"vega\": \"https://cdn.jsdelivr.net/npm/vega@5?noext\",\n",
              "      \"vega-lib\": \"https://cdn.jsdelivr.net/npm/vega-lib?noext\",\n",
              "      \"vega-lite\": \"https://cdn.jsdelivr.net/npm/vega-lite@5.8.0?noext\",\n",
              "      \"vega-embed\": \"https://cdn.jsdelivr.net/npm/vega-embed@6?noext\",\n",
              "    };\n",
              "\n",
              "    function maybeLoadScript(lib, version) {\n",
              "      var key = `${lib.replace(\"-\", \"\")}_version`;\n",
              "      return (VEGA_DEBUG[key] == version) ?\n",
              "        Promise.resolve(paths[lib]) :\n",
              "        new Promise(function(resolve, reject) {\n",
              "          var s = document.createElement('script');\n",
              "          document.getElementsByTagName(\"head\")[0].appendChild(s);\n",
              "          s.async = true;\n",
              "          s.onload = () => {\n",
              "            VEGA_DEBUG[key] = version;\n",
              "            return resolve(paths[lib]);\n",
              "          };\n",
              "          s.onerror = () => reject(`Error loading script: ${paths[lib]}`);\n",
              "          s.src = paths[lib];\n",
              "        });\n",
              "    }\n",
              "\n",
              "    function showError(err) {\n",
              "      outputDiv.innerHTML = `<div class=\"error\" style=\"color:red;\">${err}</div>`;\n",
              "      throw err;\n",
              "    }\n",
              "\n",
              "    function displayChart(vegaEmbed) {\n",
              "      vegaEmbed(outputDiv, spec, embedOpt)\n",
              "        .catch(err => showError(`Javascript Error: ${err.message}<br>This usually means there's a typo in your chart specification. See the javascript console for the full traceback.`));\n",
              "    }\n",
              "\n",
              "    if(typeof define === \"function\" && define.amd) {\n",
              "      requirejs.config({paths});\n",
              "      require([\"vega-embed\"], displayChart, err => showError(`Error loading script: ${err.message}`));\n",
              "    } else {\n",
              "      maybeLoadScript(\"vega\", \"5\")\n",
              "        .then(() => maybeLoadScript(\"vega-lite\", \"5.8.0\"))\n",
              "        .then(() => maybeLoadScript(\"vega-embed\", \"6\"))\n",
              "        .catch(showError)\n",
              "        .then(() => displayChart(vegaEmbed));\n",
              "    }\n",
              "  })({\"config\": {\"view\": {\"continuousWidth\": 300, \"continuousHeight\": 300}}, \"data\": {\"name\": \"data-6d1a535923bf9633f319bd3ed3fc098b\"}, \"mark\": {\"type\": \"bar\"}, \"encoding\": {\"color\": {\"field\": \"Alternate Date Format\", \"type\": \"nominal\"}, \"tooltip\": [{\"field\": \"Alternate Date Format\", \"type\": \"nominal\"}], \"x\": {\"field\": \"Alternate Date Format\", \"type\": \"nominal\"}, \"y\": {\"field\": \"Count\", \"sort\": \"-x\", \"type\": \"quantitative\"}}, \"params\": [{\"name\": \"param_1\", \"select\": {\"type\": \"interval\", \"encodings\": [\"x\", \"y\"]}, \"bind\": \"scales\"}], \"$schema\": \"https://vega.github.io/schema/vega-lite/v5.8.0.json\", \"datasets\": {\"data-6d1a535923bf9633f319bd3ed3fc098b\": [{\"Alternate Date Format\": \"17-Mar-24\", \"Count\": 4102.0}, {\"Alternate Date Format\": \"16-Mar-24\", \"Count\": 3621.0}, {\"Alternate Date Format\": \"15-Mar-24\", \"Count\": 2687.0}, {\"Alternate Date Format\": \"13-Mar-24\", \"Count\": 2627.0}, {\"Alternate Date Format\": \"14-Mar-24\", \"Count\": 2209.0}, {\"Alternate Date Format\": \"18-Mar-24\", \"Count\": 2152.0}, {\"Alternate Date Format\": \"19-Mar-24\", \"Count\": 2085.0}]}}, {\"mode\": \"vega-lite\"});\n",
              "</script>"
            ],
            "text/plain": [
              "alt.Chart(...)"
            ]
          },
          "execution_count": 33,
          "metadata": {},
          "output_type": "execute_result"
        }
      ],
      "source": [
        "#Checking for Days with highest tweet activity\n",
        "import altair as alt\n",
        "data_Ls=data.pivot_table(values=['Count'], index='Alternate Date Format', aggfunc=np.sum).reset_index().sort_values('Count', ascending=False).head(30)\n",
        "alt.Chart(data_Ls).mark_bar().encode(x='Alternate Date Format:N', y=alt.Y('Count', sort='-x'), color='Alternate Date Format', tooltip=['Alternate Date Format']).interactive()"
      ]
    },
    {
      "cell_type": "code",
      "execution_count": null,
      "metadata": {
        "id": "fNNtKpDVMO8N"
      },
      "outputs": [],
      "source": [
        "#Check tweet samples on days with highest number of tweets\n",
        "daily = data[data['Alternate Date Format'].str.contains('Mar 16, 2024|Mar 17, 2024')]"
      ]
    },
    {
      "cell_type": "code",
      "execution_count": null,
      "metadata": {
        "id": "V38J8jx-MO_i"
      },
      "outputs": [],
      "source": [
        "daily.shape"
      ]
    },
    {
      "cell_type": "code",
      "execution_count": null,
      "metadata": {
        "id": "SYqr1-5iMPCu"
      },
      "outputs": [],
      "source": [
        "#percentage of all tweets tweeted within Mar 17 and 16, 2024\n",
        "(daily.shape[0]/data.shape[0]) * 100"
      ]
    },
    {
      "cell_type": "code",
      "execution_count": null,
      "metadata": {
        "id": "ikIB2oOpMPM_",
        "outputId": "f2c8eac7-7d4c-4eb6-8e46-bc67d48e08a4"
      },
      "outputs": [
        {
          "name": "stderr",
          "output_type": "stream",
          "text": [
            "C:\\Users\\Heineken\\anaconda3\\Lib\\site-packages\\altair\\utils\\core.py:395: FutureWarning: the convert_dtype parameter is deprecated and will be removed in a future version.  Do ``ser.astype(object).apply()`` instead if you want ``convert_dtype=False``.\n",
            "  col = df[col_name].apply(to_list_if_array, convert_dtype=False)\n"
          ]
        },
        {
          "data": {
            "text/html": [
              "\n",
              "<style>\n",
              "  #altair-viz-2dfbe3e4436d42f092d002b192501891.vega-embed {\n",
              "    width: 100%;\n",
              "    display: flex;\n",
              "  }\n",
              "\n",
              "  #altair-viz-2dfbe3e4436d42f092d002b192501891.vega-embed details,\n",
              "  #altair-viz-2dfbe3e4436d42f092d002b192501891.vega-embed details summary {\n",
              "    position: relative;\n",
              "  }\n",
              "</style>\n",
              "<div id=\"altair-viz-2dfbe3e4436d42f092d002b192501891\"></div>\n",
              "<script type=\"text/javascript\">\n",
              "  var VEGA_DEBUG = (typeof VEGA_DEBUG == \"undefined\") ? {} : VEGA_DEBUG;\n",
              "  (function(spec, embedOpt){\n",
              "    let outputDiv = document.currentScript.previousElementSibling;\n",
              "    if (outputDiv.id !== \"altair-viz-2dfbe3e4436d42f092d002b192501891\") {\n",
              "      outputDiv = document.getElementById(\"altair-viz-2dfbe3e4436d42f092d002b192501891\");\n",
              "    }\n",
              "    const paths = {\n",
              "      \"vega\": \"https://cdn.jsdelivr.net/npm/vega@5?noext\",\n",
              "      \"vega-lib\": \"https://cdn.jsdelivr.net/npm/vega-lib?noext\",\n",
              "      \"vega-lite\": \"https://cdn.jsdelivr.net/npm/vega-lite@5.8.0?noext\",\n",
              "      \"vega-embed\": \"https://cdn.jsdelivr.net/npm/vega-embed@6?noext\",\n",
              "    };\n",
              "\n",
              "    function maybeLoadScript(lib, version) {\n",
              "      var key = `${lib.replace(\"-\", \"\")}_version`;\n",
              "      return (VEGA_DEBUG[key] == version) ?\n",
              "        Promise.resolve(paths[lib]) :\n",
              "        new Promise(function(resolve, reject) {\n",
              "          var s = document.createElement('script');\n",
              "          document.getElementsByTagName(\"head\")[0].appendChild(s);\n",
              "          s.async = true;\n",
              "          s.onload = () => {\n",
              "            VEGA_DEBUG[key] = version;\n",
              "            return resolve(paths[lib]);\n",
              "          };\n",
              "          s.onerror = () => reject(`Error loading script: ${paths[lib]}`);\n",
              "          s.src = paths[lib];\n",
              "        });\n",
              "    }\n",
              "\n",
              "    function showError(err) {\n",
              "      outputDiv.innerHTML = `<div class=\"error\" style=\"color:red;\">${err}</div>`;\n",
              "      throw err;\n",
              "    }\n",
              "\n",
              "    function displayChart(vegaEmbed) {\n",
              "      vegaEmbed(outputDiv, spec, embedOpt)\n",
              "        .catch(err => showError(`Javascript Error: ${err.message}<br>This usually means there's a typo in your chart specification. See the javascript console for the full traceback.`));\n",
              "    }\n",
              "\n",
              "    if(typeof define === \"function\" && define.amd) {\n",
              "      requirejs.config({paths});\n",
              "      require([\"vega-embed\"], displayChart, err => showError(`Error loading script: ${err.message}`));\n",
              "    } else {\n",
              "      maybeLoadScript(\"vega\", \"5\")\n",
              "        .then(() => maybeLoadScript(\"vega-lite\", \"5.8.0\"))\n",
              "        .then(() => maybeLoadScript(\"vega-embed\", \"6\"))\n",
              "        .catch(showError)\n",
              "        .then(() => displayChart(vegaEmbed));\n",
              "    }\n",
              "  })({\"config\": {\"view\": {\"continuousWidth\": 300, \"continuousHeight\": 300}}, \"data\": {\"name\": \"data-71c7a54f3ba9e298010862c7df8e2a38\"}, \"mark\": {\"type\": \"bar\"}, \"encoding\": {\"color\": {\"field\": \"tweet\", \"type\": \"nominal\"}, \"tooltip\": [{\"field\": \"tweet\", \"type\": \"nominal\"}], \"x\": {\"field\": \"Count\", \"type\": \"quantitative\"}, \"y\": {\"field\": \"tweet\", \"sort\": \"-x\", \"type\": \"nominal\"}}, \"params\": [{\"name\": \"param_3\", \"select\": {\"type\": \"interval\", \"encodings\": [\"x\", \"y\"]}, \"bind\": \"scales\"}], \"$schema\": \"https://vega.github.io/schema/vega-lite/v5.8.0.json\", \"datasets\": {\"data-71c7a54f3ba9e298010862c7df8e2a38\": [{\"tweet\": \" julius malema ?? malema: \\\"i'm not desperate to become president of south africa\\\" \\\"i'm desperate to unite the african continent and if that unity will cost me votes, you can take your votes, i don't want xenophobic votes and haters\\\"  ...\", \"Count\": 1039.0}, {\"tweet\": \" the most common last name: ???? argentina ? gonzalez ???? australia ? smith ???? bangladesh ? akter ???? brazil ? da silva ???? canada ? smith ???? china ? wang ???? egypt ? mohamed ???? ethiopia ? tesfaye ???? ...\", \"Count\": 924.0}, {\"tweet\": \" this is the former president of south africa, mr jacob zuma, in his prison uniform, queue for food with fellow inmates in a south african prison. we must take our democracy to this level if we truly want accountability and good governance.* can this happen ...\", \"Count\": 884.0}, {\"tweet\": \" ??in pictures?? cic @julius_s_malema meeting with international investors at rand merchant bank to reflect on the eff manifesto and the role of the private sector once the eff assumes government in south africa the cic tells the investors in the past ...\", \"Count\": 663.0}, {\"tweet\": \" malema : south africa does not manufacture cars because of the agreements it has with germany. guys, is this true? are there south african companies manufacturing cars? or are we supposed to be consumers for life?  ...\", \"Count\": 659.0}, {\"tweet\": \" ??breaking news ??the anc of ramaphosa has privatized eskom. \\\"energy regulator approves transfer of eskom powers and duties to national transmission company south africa.\\\"  ...\", \"Count\": 483.0}, {\"tweet\": \" thabo mbeki the reason we are in this mess in south africa it is because of, amongst others, counter revolutionary people like jacob zuma. these are people who never wanted this democratic dispensation. it is no coincidence that anc of 1994 - 2008 is ...\", \"Count\": 432.0}, {\"tweet\": \" you can hate me, insult me, scandalized my name, smear campaign me, call me all sorts of names, but julius malema will never be the president of south africa.  ...\", \"Count\": 331.0}, {\"tweet\": \" da has been running tshwane for 8 years and still gets negative qualified opinion audits but media insists to discuss eff ekurhuleni\\u2019s clean audit after a year in gov; they even hallucinate regression & failure where there\\u2019s success ?? give eff south ...\", \"Count\": 327.0}, {\"tweet\": \" it's a duty of each country to prioritize it's citizens, but i wish julius malema was this energetic when other african countries like ghana reserved certain economic sectors strictly for ghanaians, when kenya does the same thing.instead is always south ...\", \"Count\": 313.0}, {\"tweet\": \" in the eff we are properly led, jealous down. this is our operations centre to monitor and watch the rise of the eff votes to victory. there's no organisation in south africa that can claim this level of preparedness. viva president julius malema and your top ...\", \"Count\": 302.0}, {\"tweet\": \" malema: \\\"i'm not desperate to become president of south africa???? i'm desperate to unite the african continent, & if that unity will cost me votes - you can take your votes, i don't want xenophobic votes & haters\\\"?? ntandokazi ntsiki $1500 rand # ...\", \"Count\": 243.0}, {\"tweet\": \" the eff\\u2019s statement on the sanctions against eff members of parliament for calling cyril ramaphosa a money launderer -these sanctions once again prove how the anc utilises its majority in parliament to not only cover up corruption, but equally punish those ...\", \"Count\": 235.0}, {\"tweet\": \" news achieves 1994 ma albertina sisulu nominated nelson mandela as president of south africa president cyril ramaphosa seconded the nomination  ...\", \"Count\": 225.0}, {\"tweet\": \" i doubt if there's any leader who did more damage to south africa than jacob zuma ;even apartheid leaders!  ...\", \"Count\": 198.0}]}}, {\"mode\": \"vega-lite\"});\n",
              "</script>"
            ],
            "text/plain": [
              "alt.Chart(...)"
            ]
          },
          "execution_count": 49,
          "metadata": {},
          "output_type": "execute_result"
        }
      ],
      "source": [
        "#Most Shared Message/Information within Mar 17 and 16\n",
        "# Check if the 'Count' column exists in the DataFrame\n",
        "if 'Count' not in data.columns:\n",
        "    # If not, create the 'Count' column by counting the number of occurrences of each tweet\n",
        "    data['Count'] = data['tweet'].map(data['tweet'].value_counts())\n",
        "\n",
        "# Create the pivot table\n",
        "data_Ls = data.pivot_table(values=['Count'], index='tweet', aggfunc='sum').reset_index().sort_values('Count', ascending=False).head(15)\n",
        "\n",
        "# Create the bar chart\n",
        "alt.Chart(data_Ls).mark_bar().encode(x='Count', y=alt.Y('tweet:N', sort='-x'), color='tweet', tooltip=['tweet']).interactive()"
      ]
    },
    {
      "cell_type": "code",
      "execution_count": null,
      "metadata": {
        "id": "aIzkz2-ZMPP-"
      },
      "outputs": [],
      "source": [
        "data_retweets.shape"
      ]
    },
    {
      "cell_type": "code",
      "execution_count": null,
      "metadata": {
        "id": "7RMrbwQ8V8SZ"
      },
      "outputs": [],
      "source": [
        "#Check tweets days with highest number of retweets\n",
        "rt_mask = data_retweets[data_retweets['Alternate Date Format'].str.contains('Mar 2, 2024|Oct 13, 2024')]"
      ]
    },
    {
      "cell_type": "code",
      "execution_count": null,
      "metadata": {
        "id": "r3PPB3YgV8WO"
      },
      "outputs": [],
      "source": [
        "rt_mask.shape"
      ]
    },
    {
      "cell_type": "code",
      "execution_count": null,
      "metadata": {
        "id": "i-tjZzb1V8YX"
      },
      "outputs": [],
      "source": [
        "#Percentage of retweets made between Oct 12 and 13, 2021\n",
        "(rt_mask.shape[0]/data_retweets.shape[0]) *100"
      ]
    },
    {
      "cell_type": "code",
      "execution_count": null,
      "metadata": {
        "id": "tYqRWAO4V8bJ"
      },
      "outputs": [],
      "source": [
        "#Most Retweeted tweets between highest rt days\n",
        "data_Ls=rt_mask.pivot_table(values=['Count'], index='tweets', aggfunc=np.sum).reset_index().sort_values('Count', ascending=False).head(15)\n",
        "alt.Chart(data_Ls).mark_bar().encode(x='Count', y=alt.Y('tweets:N', sort='-x'), color='tweets', tooltip=['tweets']).interactive()"
      ]
    },
    {
      "cell_type": "code",
      "execution_count": null,
      "metadata": {
        "id": "7fkrpvznV8eX"
      },
      "outputs": [],
      "source": [
        "#Most Retweeted accounts\n",
        "data_Ls=rt_mask.pivot_table(values=['Count'], index='retweeted', aggfunc=np.sum).reset_index().sort_values('Count', ascending=False).head(15)\n",
        "alt.Chart(data_Ls).mark_bar().encode(x='Count', y=alt.Y('retweeted:N', sort='-x'), color='retweeted', tooltip=['retweeted']).interactive()"
      ]
    },
    {
      "cell_type": "code",
      "execution_count": null,
      "metadata": {
        "id": "7JQvzhrwWS96"
      },
      "outputs": [],
      "source": [
        "#get profile information and save as Dataframe with the following details\n",
        "Profile=pd.DataFrame()\n",
        "j=0\n",
        "for i in L:\n",
        "    test = api.lookup_users(screen_names=[i])\n",
        "    users = api.get_user(i)\n",
        "    #\\test.screen_name\n",
        "    #test.name\n",
        "    #test.description\n",
        "    #test.statuses_count\n",
        "    for user in test:\n",
        "        Profile.loc[j, \"Name\"]=user.screen_name\n",
        "        Profile.loc[j, \"Description\"]=user.description\n",
        "        Profile.loc[j, \"Creation\"]=users.created_at.strftime(\"%m/%d/%Y, %H:%M:%S\")\n",
        "        Profile.loc[j, \"Followings\"]=user.friends_count\n",
        "        Profile.loc[j, \"Followers\"]=user.followers_count\n",
        "    j=j+1"
      ]
    },
    {
      "cell_type": "code",
      "execution_count": null,
      "metadata": {
        "id": "lsTUbPumWTVk"
      },
      "outputs": [],
      "source": [
        "Profile"
      ]
    },
    {
      "cell_type": "markdown",
      "metadata": {
        "id": "Kabm3Mh3Y-n3"
      },
      "source": [
        "**Facebook data analysis**"
      ]
    },
    {
      "cell_type": "code",
      "execution_count": null,
      "metadata": {
        "id": "FyuNj_oWxwo3"
      },
      "outputs": [],
      "source": [
        "data = pd.read_csv(\"path to the csv file\",\n",
        "                encoding='cp1252', low_memory=False)#encoding is optional, it can be removed or changed depends on the data type"
      ]
    },
    {
      "cell_type": "code",
      "execution_count": null,
      "metadata": {
        "id": "ZDLsbxumW_3x"
      },
      "outputs": [],
      "source": [
        "#Remove duplicates\n",
        "data=data.drop_duplicates().reset_index().drop('index', axis=1)"
      ]
    },
    {
      "cell_type": "code",
      "execution_count": null,
      "metadata": {
        "id": "jh26Jt4OXQtK"
      },
      "outputs": [],
      "source": [
        "for i in range(data.shape[0]):\n",
        "    data.loc[i, 'Count']=1"
      ]
    },
    {
      "cell_type": "code",
      "execution_count": null,
      "metadata": {
        "id": "lUfAeLrPXQwQ",
        "outputId": "cb637755-5c33-42f3-f62e-b4fb733c1ed4"
      },
      "outputs": [
        {
          "data": {
            "text/plain": [
              "Index(['Page Name', 'User Name', 'Facebook Id', 'Page Category',\n",
              "       'Page Admin Top Country', 'Page Description', 'Page Created',\n",
              "       'Likes at Posting', 'Followers at Posting', 'Post Created',\n",
              "       'Post Created Date', 'Post Created Time', 'Type', 'Total Interactions',\n",
              "       'Likes', 'Comments', 'Shares', 'Love', 'Wow', 'Haha', 'Sad', 'Angry',\n",
              "       'Care', 'Video Share Status', 'Is Video Owner?', 'Post Views',\n",
              "       'Total Views', 'Total Views For All Crossposts', 'Video Length', 'URL',\n",
              "       'Message', 'Link', 'Final Link', 'Image Text', 'Link Text',\n",
              "       'Description', 'Sponsor Id', 'Sponsor Name', 'Sponsor Category',\n",
              "       'Total Interactions (weighted  —  Likes 1x Shares 1x Comments 1x Love 1x Wow 1x Haha 1x Sad 1x Angry 1x Care 1x )',\n",
              "       'Overperforming Score', 'Count'],\n",
              "      dtype='object')"
            ]
          },
          "execution_count": 56,
          "metadata": {},
          "output_type": "execute_result"
        }
      ],
      "source": [
        "data.columns"
      ]
    },
    {
      "cell_type": "code",
      "execution_count": null,
      "metadata": {
        "id": "KMvjW4TsXQzm"
      },
      "outputs": [],
      "source": [
        "data.dropna(axis=1)"
      ]
    },
    {
      "cell_type": "code",
      "execution_count": null,
      "metadata": {
        "id": "9xKClBk0XQ3D"
      },
      "outputs": [],
      "source": [
        "#Remove links\n",
        "data['Message'] = data['Message'].apply(lambda x: re.split('https:\\/\\/.*', str(x))[0])"
      ]
    },
    {
      "cell_type": "code",
      "execution_count": null,
      "metadata": {
        "id": "dcPFfECJxwo6"
      },
      "outputs": [],
      "source": [
        "## WordCloud of Facebook Posts\n",
        "stop_words = get_stop_words('english')# if posts are in french otherwise use STOPWORDS\n",
        "#from stop_words import safe_get_stop_words\n",
        "#stop_words = safe_get_stop_words('unsupported language')\n",
        "text = ' '.join([str(x) for x in data['Message'].values if pd.notnull(x)])\n",
        "wc = WordCloud(stopwords=stop_words,background_color='white',max_words=200,scale=3).generate(text)\n",
        "plt.figure(figsize=(10,10))\n",
        "plt.axis('off')\n",
        "plt.imshow(wc)\n",
        "plt.show()\n",
        "#stop_words = get_stop_words('french') + get_stop_words('english')"
      ]
    },
    {
      "cell_type": "code",
      "execution_count": null,
      "metadata": {
        "id": "lklrvl1Gxwo7",
        "outputId": "8494b8bc-ff6f-4a35-ccd1-97842ec77153"
      },
      "outputs": [
        {
          "name": "stderr",
          "output_type": "stream",
          "text": [
            "C:\\Users\\Heineken\\AppData\\Local\\Temp\\ipykernel_10928\\263972244.py:2: FutureWarning: The provided callable <function sum at 0x000001FEFDE2CCC0> is currently using DataFrameGroupBy.sum. In a future version of pandas, the provided callable will be used directly. To keep current behavior pass the string \"sum\" instead.\n",
            "  data_Ls=data.pivot_table(values=['Count'], index='Post Created Date', aggfunc=np.sum).reset_index().sort_values('Count', ascending=False).head(30)\n",
            "C:\\Users\\Heineken\\anaconda3\\Lib\\site-packages\\altair\\utils\\core.py:395: FutureWarning: the convert_dtype parameter is deprecated and will be removed in a future version.  Do ``ser.astype(object).apply()`` instead if you want ``convert_dtype=False``.\n",
            "  col = df[col_name].apply(to_list_if_array, convert_dtype=False)\n"
          ]
        },
        {
          "data": {
            "text/html": [
              "\n",
              "<style>\n",
              "  #altair-viz-2faa0898d9be4bf18f669475f9884d1f.vega-embed {\n",
              "    width: 100%;\n",
              "    display: flex;\n",
              "  }\n",
              "\n",
              "  #altair-viz-2faa0898d9be4bf18f669475f9884d1f.vega-embed details,\n",
              "  #altair-viz-2faa0898d9be4bf18f669475f9884d1f.vega-embed details summary {\n",
              "    position: relative;\n",
              "  }\n",
              "</style>\n",
              "<div id=\"altair-viz-2faa0898d9be4bf18f669475f9884d1f\"></div>\n",
              "<script type=\"text/javascript\">\n",
              "  var VEGA_DEBUG = (typeof VEGA_DEBUG == \"undefined\") ? {} : VEGA_DEBUG;\n",
              "  (function(spec, embedOpt){\n",
              "    let outputDiv = document.currentScript.previousElementSibling;\n",
              "    if (outputDiv.id !== \"altair-viz-2faa0898d9be4bf18f669475f9884d1f\") {\n",
              "      outputDiv = document.getElementById(\"altair-viz-2faa0898d9be4bf18f669475f9884d1f\");\n",
              "    }\n",
              "    const paths = {\n",
              "      \"vega\": \"https://cdn.jsdelivr.net/npm/vega@5?noext\",\n",
              "      \"vega-lib\": \"https://cdn.jsdelivr.net/npm/vega-lib?noext\",\n",
              "      \"vega-lite\": \"https://cdn.jsdelivr.net/npm/vega-lite@5.8.0?noext\",\n",
              "      \"vega-embed\": \"https://cdn.jsdelivr.net/npm/vega-embed@6?noext\",\n",
              "    };\n",
              "\n",
              "    function maybeLoadScript(lib, version) {\n",
              "      var key = `${lib.replace(\"-\", \"\")}_version`;\n",
              "      return (VEGA_DEBUG[key] == version) ?\n",
              "        Promise.resolve(paths[lib]) :\n",
              "        new Promise(function(resolve, reject) {\n",
              "          var s = document.createElement('script');\n",
              "          document.getElementsByTagName(\"head\")[0].appendChild(s);\n",
              "          s.async = true;\n",
              "          s.onload = () => {\n",
              "            VEGA_DEBUG[key] = version;\n",
              "            return resolve(paths[lib]);\n",
              "          };\n",
              "          s.onerror = () => reject(`Error loading script: ${paths[lib]}`);\n",
              "          s.src = paths[lib];\n",
              "        });\n",
              "    }\n",
              "\n",
              "    function showError(err) {\n",
              "      outputDiv.innerHTML = `<div class=\"error\" style=\"color:red;\">${err}</div>`;\n",
              "      throw err;\n",
              "    }\n",
              "\n",
              "    function displayChart(vegaEmbed) {\n",
              "      vegaEmbed(outputDiv, spec, embedOpt)\n",
              "        .catch(err => showError(`Javascript Error: ${err.message}<br>This usually means there's a typo in your chart specification. See the javascript console for the full traceback.`));\n",
              "    }\n",
              "\n",
              "    if(typeof define === \"function\" && define.amd) {\n",
              "      requirejs.config({paths});\n",
              "      require([\"vega-embed\"], displayChart, err => showError(`Error loading script: ${err.message}`));\n",
              "    } else {\n",
              "      maybeLoadScript(\"vega\", \"5\")\n",
              "        .then(() => maybeLoadScript(\"vega-lite\", \"5.8.0\"))\n",
              "        .then(() => maybeLoadScript(\"vega-embed\", \"6\"))\n",
              "        .catch(showError)\n",
              "        .then(() => displayChart(vegaEmbed));\n",
              "    }\n",
              "  })({\"config\": {\"view\": {\"continuousWidth\": 300, \"continuousHeight\": 300}}, \"data\": {\"name\": \"data-559d80ab7eca3b43824a3d48a423c75b\"}, \"mark\": {\"type\": \"bar\"}, \"encoding\": {\"color\": {\"field\": \"Post Created Date\", \"type\": \"nominal\"}, \"tooltip\": [{\"field\": \"Post Created Date\", \"type\": \"nominal\"}], \"x\": {\"field\": \"Post Created Date\", \"type\": \"nominal\"}, \"y\": {\"field\": \"Count\", \"sort\": \"-x\", \"type\": \"quantitative\"}}, \"params\": [{\"name\": \"param_4\", \"select\": {\"type\": \"interval\", \"encodings\": [\"x\", \"y\"]}, \"bind\": \"scales\"}], \"$schema\": \"https://vega.github.io/schema/vega-lite/v5.8.0.json\", \"datasets\": {\"data-559d80ab7eca3b43824a3d48a423c75b\": [{\"Post Created Date\": \"2/20/2024\", \"Count\": 494.0}, {\"Post Created Date\": \"3/11/2024\", \"Count\": 319.0}, {\"Post Created Date\": \"2/21/2024\", \"Count\": 304.0}, {\"Post Created Date\": \"3/14/2024\", \"Count\": 250.0}, {\"Post Created Date\": \"3/7/2024\", \"Count\": 242.0}, {\"Post Created Date\": \"3/16/2024\", \"Count\": 230.0}, {\"Post Created Date\": \"3/18/2024\", \"Count\": 227.0}, {\"Post Created Date\": \"2/19/2024\", \"Count\": 220.0}, {\"Post Created Date\": \"3/12/2024\", \"Count\": 219.0}, {\"Post Created Date\": \"3/19/2024\", \"Count\": 211.0}, {\"Post Created Date\": \"3/10/2024\", \"Count\": 210.0}, {\"Post Created Date\": \"3/15/2024\", \"Count\": 208.0}, {\"Post Created Date\": \"3/6/2024\", \"Count\": 207.0}, {\"Post Created Date\": \"2/29/2024\", \"Count\": 204.0}, {\"Post Created Date\": \"3/1/2024\", \"Count\": 200.0}, {\"Post Created Date\": \"3/13/2024\", \"Count\": 199.0}, {\"Post Created Date\": \"2/27/2024\", \"Count\": 194.0}, {\"Post Created Date\": \"2/23/2024\", \"Count\": 194.0}, {\"Post Created Date\": \"2/25/2024\", \"Count\": 187.0}, {\"Post Created Date\": \"2/24/2024\", \"Count\": 182.0}, {\"Post Created Date\": \"3/9/2024\", \"Count\": 173.0}, {\"Post Created Date\": \"3/17/2024\", \"Count\": 169.0}, {\"Post Created Date\": \"2/22/2024\", \"Count\": 169.0}, {\"Post Created Date\": \"3/3/2024\", \"Count\": 164.0}, {\"Post Created Date\": \"2/26/2024\", \"Count\": 151.0}, {\"Post Created Date\": \"3/8/2024\", \"Count\": 145.0}, {\"Post Created Date\": \"2/28/2024\", \"Count\": 144.0}, {\"Post Created Date\": \"3/4/2024\", \"Count\": 139.0}, {\"Post Created Date\": \"3/5/2024\", \"Count\": 128.0}, {\"Post Created Date\": \"3/2/2024\", \"Count\": 113.0}]}}, {\"mode\": \"vega-lite\"});\n",
              "</script>"
            ],
            "text/plain": [
              "alt.Chart(...)"
            ]
          },
          "execution_count": 64,
          "metadata": {},
          "output_type": "execute_result"
        }
      ],
      "source": [
        "#Checking for Days with highest post activity\n",
        "data_Ls=data.pivot_table(values=['Count'], index='Post Created Date', aggfunc=np.sum).reset_index().sort_values('Count', ascending=False).head(30)\n",
        "alt.Chart(data_Ls).mark_bar().encode(x='Post Created Date:N', y=alt.Y('Count', sort='-x'), color='Post Created Date', tooltip=['Post Created Date']).interactive()"
      ]
    },
    {
      "cell_type": "code",
      "execution_count": null,
      "metadata": {
        "id": "MuPN_S3cxwo7"
      },
      "outputs": [],
      "source": [
        "#Create total interactions variable\n",
        "for i in range(data.shape[0]):\n",
        "    data.loc[i,'interactions']=data.loc[i,'Likes']+data.loc[i,'Comments']+data.loc[i,'Shares']+data.loc[i,'Love']+data.loc[i,'Wow']+data.loc[i,'Haha']+data.loc[i,'Sad']+data.loc[i,'Angry']+data.loc[i,'Care']"
      ]
    },
    {
      "cell_type": "code",
      "execution_count": null,
      "metadata": {
        "id": "Z8W10T8Gxwo7",
        "outputId": "ff4d5c9c-5210-4ad9-ee6a-d8131ff40ecd"
      },
      "outputs": [
        {
          "name": "stderr",
          "output_type": "stream",
          "text": [
            "C:\\Users\\Heineken\\AppData\\Local\\Temp\\ipykernel_10928\\2470508865.py:2: FutureWarning: The provided callable <function sum at 0x000001FEFDE2CCC0> is currently using DataFrameGroupBy.sum. In a future version of pandas, the provided callable will be used directly. To keep current behavior pass the string \"sum\" instead.\n",
            "  data_Ls=data.pivot_table(values=['interactions'], index='Message', aggfunc=np.sum).reset_index().sort_values('interactions', ascending=False).head(15)\n",
            "C:\\Users\\Heineken\\anaconda3\\Lib\\site-packages\\altair\\utils\\core.py:395: FutureWarning: the convert_dtype parameter is deprecated and will be removed in a future version.  Do ``ser.astype(object).apply()`` instead if you want ``convert_dtype=False``.\n",
            "  col = df[col_name].apply(to_list_if_array, convert_dtype=False)\n"
          ]
        },
        {
          "data": {
            "text/html": [
              "\n",
              "<style>\n",
              "  #altair-viz-968572a283074afbb3d6cb5ae6236cab.vega-embed {\n",
              "    width: 100%;\n",
              "    display: flex;\n",
              "  }\n",
              "\n",
              "  #altair-viz-968572a283074afbb3d6cb5ae6236cab.vega-embed details,\n",
              "  #altair-viz-968572a283074afbb3d6cb5ae6236cab.vega-embed details summary {\n",
              "    position: relative;\n",
              "  }\n",
              "</style>\n",
              "<div id=\"altair-viz-968572a283074afbb3d6cb5ae6236cab\"></div>\n",
              "<script type=\"text/javascript\">\n",
              "  var VEGA_DEBUG = (typeof VEGA_DEBUG == \"undefined\") ? {} : VEGA_DEBUG;\n",
              "  (function(spec, embedOpt){\n",
              "    let outputDiv = document.currentScript.previousElementSibling;\n",
              "    if (outputDiv.id !== \"altair-viz-968572a283074afbb3d6cb5ae6236cab\") {\n",
              "      outputDiv = document.getElementById(\"altair-viz-968572a283074afbb3d6cb5ae6236cab\");\n",
              "    }\n",
              "    const paths = {\n",
              "      \"vega\": \"https://cdn.jsdelivr.net/npm/vega@5?noext\",\n",
              "      \"vega-lib\": \"https://cdn.jsdelivr.net/npm/vega-lib?noext\",\n",
              "      \"vega-lite\": \"https://cdn.jsdelivr.net/npm/vega-lite@5.8.0?noext\",\n",
              "      \"vega-embed\": \"https://cdn.jsdelivr.net/npm/vega-embed@6?noext\",\n",
              "    };\n",
              "\n",
              "    function maybeLoadScript(lib, version) {\n",
              "      var key = `${lib.replace(\"-\", \"\")}_version`;\n",
              "      return (VEGA_DEBUG[key] == version) ?\n",
              "        Promise.resolve(paths[lib]) :\n",
              "        new Promise(function(resolve, reject) {\n",
              "          var s = document.createElement('script');\n",
              "          document.getElementsByTagName(\"head\")[0].appendChild(s);\n",
              "          s.async = true;\n",
              "          s.onload = () => {\n",
              "            VEGA_DEBUG[key] = version;\n",
              "            return resolve(paths[lib]);\n",
              "          };\n",
              "          s.onerror = () => reject(`Error loading script: ${paths[lib]}`);\n",
              "          s.src = paths[lib];\n",
              "        });\n",
              "    }\n",
              "\n",
              "    function showError(err) {\n",
              "      outputDiv.innerHTML = `<div class=\"error\" style=\"color:red;\">${err}</div>`;\n",
              "      throw err;\n",
              "    }\n",
              "\n",
              "    function displayChart(vegaEmbed) {\n",
              "      vegaEmbed(outputDiv, spec, embedOpt)\n",
              "        .catch(err => showError(`Javascript Error: ${err.message}<br>This usually means there's a typo in your chart specification. See the javascript console for the full traceback.`));\n",
              "    }\n",
              "\n",
              "    if(typeof define === \"function\" && define.amd) {\n",
              "      requirejs.config({paths});\n",
              "      require([\"vega-embed\"], displayChart, err => showError(`Error loading script: ${err.message}`));\n",
              "    } else {\n",
              "      maybeLoadScript(\"vega\", \"5\")\n",
              "        .then(() => maybeLoadScript(\"vega-lite\", \"5.8.0\"))\n",
              "        .then(() => maybeLoadScript(\"vega-embed\", \"6\"))\n",
              "        .catch(showError)\n",
              "        .then(() => displayChart(vegaEmbed));\n",
              "    }\n",
              "  })({\"config\": {\"view\": {\"continuousWidth\": 300, \"continuousHeight\": 300}}, \"data\": {\"name\": \"data-c9c034e071aef60f63f56e302c3340d1\"}, \"mark\": {\"type\": \"bar\"}, \"encoding\": {\"color\": {\"field\": \"Message\", \"type\": \"nominal\"}, \"tooltip\": [{\"field\": \"Message\", \"type\": \"nominal\"}], \"x\": {\"field\": \"interactions\", \"type\": \"quantitative\"}, \"y\": {\"field\": \"Message\", \"sort\": \"-x\", \"type\": \"nominal\"}}, \"params\": [{\"name\": \"param_5\", \"select\": {\"type\": \"interval\", \"encodings\": [\"x\", \"y\"]}, \"bind\": \"scales\"}], \"$schema\": \"https://vega.github.io/schema/vega-lite/v5.8.0.json\", \"datasets\": {\"data-c9c034e071aef60f63f56e302c3340d1\": [{\"Message\": \"LA FURBIZIA DEGLI ANIMALI L'Anthoscopus \\u00e8 uccello che ha sviluppato una tecnica difensiva della prole unica nel suo genere. Per fare ci\\u00f2 ha creato un nido con un ingresso segreto e nascosto. Il falso ingresso \\u00e8 ben visibile, facilmente individuabile dal predatore. Sopra di esso si nasconde per\\u00f2 l\\u2019ingresso al nido vero e proprio, attraverso un piccolo foro. Questo uccello abita l'Africa sub-sahariana e, a differenza di molti di questi uccelli eurasiatici, non migra e rimane tutto l'anno vicino ai luoghi di riproduzione. Monogamo, produce due cucciolate per stagione riproduttiva. Entrambi i sessi costruiscono il nido, la stagione della deposizione avviene quasi tutto l'anno, con un picco durante l'estate. Depone da 4 a 7 uova, che vengono incubate da entrambi i sessi per circa 13-15 giorni. I pulcini lasciano il nido dopo 16-22 giorni, diventando indipendenti solo al termine della stagione riproduttiva. Seguidifferent. se sei appassionato di scienza e divulgazione. Fonte: \\u201cA False Entrance To The Cape Penduline Tit\\u2019s Nest\\u201d, Gondwana Collection Namibia; \\u201cAnthoscopus minutus (Cape penduline-tit)\\u201d, Museum of South Africa Credit foto: IGUi WORLDWIDE Credit video: Coerie Ferreira, YouTube Credit audio: Geoff Harvey, Pixabay\", \"interactions\": 25670.0}, {\"Message\": \"nan\", \"interactions\": 15917.0}, {\"Message\": \"Dopo la vittoria in Galles saliamo all\\u2019ottavo posto del Ranking di World Rugby. \\u00c8 un buon momento ma c\\u2019\\u00e8 tanto ancora da fare per costruire delle solide basi del nostro movimento. Buon lavoro a tutto il sistema rugby italiano, questo traguardo \\u00e8 di tutti ???????? #worldrugby #WorldRugbyRanking #italiarugby #rugbypassioneitaliana\", \"interactions\": 10240.0}, {\"Message\": \"???? Election Day on 29 May 2024 confirmed: Bring It On! The DA is committed to bringing an end to 30 years of ANC failure, corruption, and state capture. The upcoming election is an opportunity for the people of South Africa to choose a path of progress and unite to #RescueSA.\", \"interactions\": 8640.0}, {\"Message\": \"MOMO! The late Said \\\"Momo\\\"Mohamed of the popular song \\\"Oule\\\" originated from the Comoros Island.He has been living in Botswana for many years till his death.He came from a strict Islamic family that had reservations about his musical career. His illustrious career started in France where he rubbed shoulders with musos like Manu Dibango up to South Africa where he worked with a band called Shine.He recorded his album in Nosey Road Studios called In African Renaissance.In Botswana he has worked with Da Vet Crew Dolly Setiloane,Harry Mayaga just to mention a few. Momo will still remain in the hearts of Batswana forever.Momo o mogaka rra! ................................................................................. PLEASE FOLLOW THIS PAGE: \", \"interactions\": 5138.0}, {\"Message\": \"\", \"interactions\": 4515.0}, {\"Message\": \"Between EFF DA & MK Who Can Replace ANC ? What Is The Next 4 Years Going To Look Like In South Africa\", \"interactions\": 2536.0}, {\"Message\": \"Nigerians don cry tire after dem hear say their defender wey im name na Zaidu Sanusi don carry beta injUry wey fit make am no play ball again this season.?? Zaidu Sanusi bin carry serious InjUry when Porto dey play against Estrela da Amadora on Saturday and hin club don confirm say Sanusi rupture hin left knee\\u2019s anterior cruciate ligament (ACL InjUry). On a norms, e dey take five-nine months to recover from ACL injUry which means Zaidu Sanusi fit no play ball again this season and Porto get Champions league match with Arsenal on Wednesday and Nigeria still get Worldcup qualifiers with South Africa in June 2024.?? Abeg make una wish am quick recovery\", \"interactions\": 2296.0}, {\"Message\": \"Ova fotografija definitivno ide na zid?? Ju\\u017ena Afrika je bila prava avantura. Kada smo dolazili, nisam bila sigurna \\u0161to mogu o?ekivati, ali odlazim sa preporukama za one koji idu samo u turizam, kao i za one koji tra\\u017ee nove lokacije za plivanje. Priroda, ljudi, povijest sve je ono \\u0161to ovu zemlju ?ini posebnom. Jo\\u0161 jednom sam imala priliku zaplivati gdje rijetki dobiju \\u0161ansu i usude se. Svaki put mislim da nema na?ina da se iznova odu\\u0161evim s lokacijama na kojima plivam, ali ovoga puta sam bila debelo u krivu. I zato ?u re?i samo do vi?enja, ne i zbogom ???? ????South Africa was a real adventure. When we were arriving, I wasn't sure what to expect, but I leave with only recommendations for those who look only for tourism, as well as for those who are looking for new swimming locations. Nature, people, history are all what make this country special. Once again, I had the opportunity to swim where few get the chance, and dare. Every time I think that there is no way to get excited about the locations I swim in again, but this time I was very wrong. And that's why I'll only say see you later and not goodbye ???? #acimarinas #ACI #raiffeisenbank #RBA #speedohrvatska #whiteshark #civilengineeringconsultancy #zracnalukasvetijeronim #antimetilhrvatska #putnamu?nina #perskindolhrvatska #aktivan\\u017eivot #croatiafulloflife BigBayEvents\", \"interactions\": 2142.0}, {\"Message\": \"MWAISENI YAMA HON ROBERT KALIMI & WE THANK GOD FOR HIS HEALING MERCIES ???? By Miles Bwalya Sampa, MP February 28th, 2024 Welcome back home Hon Robert Kalimi and we thank God for his healing mercies so many months since the unfortunate Road accident. The people of Malole constituency in Kasama district can now have back into Parliament their voice through you to represent their challenges. Many thanks to all that played vital roles in the process of ensuring our beloved Hon Kalimi's life is preserved to current good recovery. Some of these are; 1) The Republican President HH who only through his approval directly or indirectly, any Zambian gets evacuated for medical treatment on government coffers. 2) The Speaker of National Assembly Her Honour Nellie Mutti who has been supportive 100% and kept a close eye towards the Hon's recovery. At one point or another, She authorized and personally led a Parliament entourage to visit the Hon at the hospital in SA. 3) The Mansa Central MP Hon Dr Chitalu Chilufya who provided the vital medical link and know how from the accident day to evacuation and later between Zambia and the South African Doctors that handled his hospital files. 4) Leader of Oppostion Hon Robert Chabinga that visited him in hospital often and also coordinated Parliament and Executive the support needed. Over Christmas period he led his family to visit Hon Kalimi and family at his hospital bed. They spent entire day together and enjoyed the Christmas meals together. I gather the two families had a good time on that day. 5) Hon Kalimi's wife that was by his bedside all these months both in Zambia (Levy & UTH) and in SA (Milpark Hospital). 6) Hon Kalimi&s elder sister that has been at her brother's bedside both in Zambia and South Africa for over 6 months or so. I visited Hon Kalimi last while in the hospital in South Africa and knew he would be back home soon because he was passing same jokes on me (he calls nephew) as used to before the unfortunate incident. Lesa wamaka and welcome back Yama. MBS28.02.2024\", \"interactions\": 2125.0}, {\"Message\": \"BAL 2024 Confira a tabela classificativa da Confer\\u00eancia Kalahari \\u00e0 sa\\u00edda da 4.\\u00aa jornada:\", \"interactions\": 1955.0}, {\"Message\": \"IFP President Hlabisa: iphuzu lokuqala imisebenzi, SETHEMBE siza nayo ngempela. Isithunzi somuntu sibuyiswa ukuthi umuntu asebenze. Umgomo wethu uthi kufanele sithuthukise ezomnotho. Sizokwenza kanje lokhu: Uhulumeni wethu uzoshaya umgomo othi u 80% wabasebenzi ezinkampanini kube ngabantu base South Africa kuphela. ZONKE izitolo eziphethwe ngabantu bangaphandle mazibuyele kubantu base SA. Kasibandlululi abantu bangaphandle ngokusho lokho. Sifuna ukuthuthukisa osomabhizinisi bakithi ukuze baqashe abantu. Sizoqala I grant kaR3000 yezitshudeni ezihleli emakhaya. Sizothatha lama billions amarandi kwaSETA siwafake komasipala bese zonke izifundiswa zithole ama internships. #IFPManifestoLaunch\", \"interactions\": 1944.0}, {\"Message\": \"I have never dawuthed the love from you my Tsitkitsiki Nation. A lot of people have reached out to help me although some of the people want me to pay ????????so I can be divorced in South Africa ????. Thank you so much for making my matter yours. I will like to ask to be helped by skweletu Mr Ramaphosa will pay for me because I think it unfair to pay to be divorced from my own gavamenti when it a free service. At this point don\\u2019t reach out unless you are handsome from the head of office and you are single ??. We can have a sweating conversation ??.\", \"interactions\": 1845.0}, {\"Message\": \"??In Pictures?? CIC Julius Malema with the Secretary General Dlamini Marshall at the state of the art EFF National Operation Centre for the 2024 Elections It is from this nerve centre, that all submissions from the EFF door to door campaign in every ward of South Africa will be verified, and all results across the country will be verified on voting day! The EFF will be calling you soon! The battle lines have been drawn! Vote EFF ON THE 29th OF MAY 2023 #VoteEFF\", \"interactions\": 1765.0}, {\"Message\": \"Sre?om uvijek netko pored mene se vi\\u0161e brine od mene same, tako je bilo i ju?er ??. Kako smo dan prije saznali da je uslijed sna\\u017enog i nepovoljnog vjetra do\\u0161lo do naglog pada temperature mora na 11.5\\u00b0C, \\u0161to je vrlo ?esto za Atlantik, zavladala je panika u mom timu (?itaj mama). Rekla sam \\\"nemamo vi\\u0161e vremena, idemo, pa kako bude\\\". Po nas je stigla Michelle, izvrsna, iskusna i vrlo spretna kapetanica. Mi se nismo ni okrenuli, ona je ve? porinula gumenjak u more. More se ?inilo idealno, mirno i tiho, samo mi je davalo naznaku da ima kurenta. Brzo smo stigli do mjesta za start, Robben Island. Michelle nas obavije\\u0161tava da je more 15\\u00b0C! Ja sritna, a mama prisritna, ali svi znamo da ?e pasti puno ni\\u017ee. Kre?em u preplivavanje potpuno neoptere?ena i sretna \\u0161to sam dobila priliku zaplivati FREEDOM SWIM ??. Sa Robbena me ispra?a mno\\u0161tvo vranaca, \\u0161to mi daje dodatno samopouzdanje. More je i dalje mirno. Uigrano smo odradili prvo hranjenje. I onda osjetim veliku hladno?u, temperatura mora pada na 12.5\\u00b0C, \\\"dobro je Dina, izdr\\u017ei\\\" i nastavim dalje. ALI, vrlo brzo more opet sko?i na 15 i sad ve? znate tko je sretniji od mene ??. Nema veze \\u0161to ja imam ?epi?e i zna da je ne ?ujem, ali ona se veseli, ska?e, daje mi podr\\u0161ku, iako smo tek na pola puta. Michelle je iznena?ena dana\\u0161njom temperaturom mora, koja je gotovo cijelim putem bila oko 15\\u00b0C. Pribli\\u017eavamo se cilju i dobivam uputu da poja?am zbog kurenta. Odli?no se osje?am, na trenutke mi je ?ak i vru?e ??. Ulazak u cilj, nezaboravno. Plivam sama no\\u0161ena surferskim valovima do prekrasne pje\\u0161?ane pla\\u017ee Blouberg. Potpoljena sam vi\\u0161e puta i izlazak nije bio jednostavan, ali je bio jedinstven kao i svaki u Ju\\u017enoj Africi. Dobijam podr\\u0161ku lokalnih surfera. Izlazim di\\u017eem ruke u zrak i \\u0161toperica staje na 2:11:57. ????Fortunately, there is always someone next to me who worries more than I do myself, that was the case yesterday too ??. As we learned the day before that due to a strong and unfavorable wind there was a sudden drop in the sea temperature to 11.5\\u00b0C, which is very common for the Atlantic, panic reigned in my team (read mom). I said \\\"we don't have any more time, let's go, whatever happens \\\". Michelle, an excellent, experienced and very skilled captain, came to pick us up. We didn't even turn around, she had already launched the boat into the sea. The sea seemed ideal, calm and quiet, it only gave me an indication that there was a current. We quickly reached the starting point, Robben Island. Michelle informs us that the sea is 15\\u00b0C! I'm happy, and mom is happy, but we all know it will fall much lower. I start the swim completely unburdened and happy that I got the chance to swim FREEDOM SWIM ??. A lot of cormorants see me off from Robben, which gives me extra confidence. The sea is still calm. We did the first feeding. And then I feel very cold, the sea temperature drops to 12.5\\u00b0C, \\\"it's fine Dina, hold on\\\" and I continue on. BUT, very soon the sea jumps to 15 again and now you already know who is happier than me ??. It doesn't matter that I have earplugs and she knows I can't hear her, but she's happy, jumping, supporting me, even though we're only halfway there. Michelle is surprised by today's sea temperature, which was around 15\\u00b0C almost the entire way. We are getting close to the finish line and I am instructed to increase the speed because of the current. I feel great, sometimes I even feel hot ??. Entering the finish line, unforgettable. I swim alone carried by the surf waves to the beautiful sandy beach of Blouberg. I have been pushed by waves more than once and the exit was not easy, but it was as unique as any in South Africa. I get support from local surfers. I go out, raise my hands in the air and the stopwatch stops at 2:11:57. #acimarinas #ACI #raiffeisenbank #RBA #speedohrvatska #whiteshark #civilengineeringconsultancy #zracnalukasvetijeronim #antimetilhrvatska #putnamu?nina #perskindolhrvatska #aktivan\\u017eivot #croatiafulloflife\", \"interactions\": 1739.0}]}}, {\"mode\": \"vega-lite\"});\n",
              "</script>"
            ],
            "text/plain": [
              "alt.Chart(...)"
            ]
          },
          "execution_count": 66,
          "metadata": {},
          "output_type": "execute_result"
        }
      ],
      "source": [
        "# Top 15 posts with high number of Total Interactions\n",
        "data_Ls=data.pivot_table(values=['interactions'], index='Message', aggfunc=np.sum).reset_index().sort_values('interactions', ascending=False).head(15)\n",
        "alt.Chart(data_Ls).mark_bar().encode(x='interactions', y=alt.Y('Message:N', sort='-x'), color='Message', tooltip=['Message']).interactive()"
      ]
    },
    {
      "cell_type": "code",
      "execution_count": null,
      "metadata": {
        "id": "LpyNwnkSxwo7"
      },
      "outputs": [],
      "source": [
        "## print table with Message and their links\n",
        "table=pd.DataFrame()\n",
        "for i in range(15):\n",
        "    table.loc[i, 'Message']=data_Ls.reset_index().drop('index', axis=1).loc[i, 'Message']\n",
        "    k=data_Ls.reset_index().drop('index', axis=1).loc[i, 'Message']\n",
        "    l=data[data['Message']==k]['URL'].tolist()\n",
        "    table.loc[i, 'Link']=l[0]# you can take every number in range(len(l)) incase an url doesn't open\n",
        "table"
      ]
    },
    {
      "cell_type": "code",
      "execution_count": null,
      "metadata": {
        "id": "t1DVKKEmxwo7",
        "outputId": "75fadfd1-f980-42b4-93a8-a0e3570f5527"
      },
      "outputs": [
        {
          "name": "stderr",
          "output_type": "stream",
          "text": [
            "C:\\Users\\Heineken\\AppData\\Local\\Temp\\ipykernel_10928\\2627385099.py:3: FutureWarning: The provided callable <function sum at 0x000001FEFDE2CCC0> is currently using DataFrameGroupBy.sum. In a future version of pandas, the provided callable will be used directly. To keep current behavior pass the string \"sum\" instead.\n",
            "  data_Ls=data.pivot_table(values=['interactions'], index='Description', aggfunc=np.sum).reset_index().sort_values('interactions', ascending=False).head(15)\n",
            "C:\\Users\\Heineken\\anaconda3\\Lib\\site-packages\\altair\\utils\\core.py:395: FutureWarning: the convert_dtype parameter is deprecated and will be removed in a future version.  Do ``ser.astype(object).apply()`` instead if you want ``convert_dtype=False``.\n",
            "  col = df[col_name].apply(to_list_if_array, convert_dtype=False)\n"
          ]
        },
        {
          "data": {
            "text/html": [
              "\n",
              "<style>\n",
              "  #altair-viz-f6077803c6b443b0998d7003a57acb93.vega-embed {\n",
              "    width: 100%;\n",
              "    display: flex;\n",
              "  }\n",
              "\n",
              "  #altair-viz-f6077803c6b443b0998d7003a57acb93.vega-embed details,\n",
              "  #altair-viz-f6077803c6b443b0998d7003a57acb93.vega-embed details summary {\n",
              "    position: relative;\n",
              "  }\n",
              "</style>\n",
              "<div id=\"altair-viz-f6077803c6b443b0998d7003a57acb93\"></div>\n",
              "<script type=\"text/javascript\">\n",
              "  var VEGA_DEBUG = (typeof VEGA_DEBUG == \"undefined\") ? {} : VEGA_DEBUG;\n",
              "  (function(spec, embedOpt){\n",
              "    let outputDiv = document.currentScript.previousElementSibling;\n",
              "    if (outputDiv.id !== \"altair-viz-f6077803c6b443b0998d7003a57acb93\") {\n",
              "      outputDiv = document.getElementById(\"altair-viz-f6077803c6b443b0998d7003a57acb93\");\n",
              "    }\n",
              "    const paths = {\n",
              "      \"vega\": \"https://cdn.jsdelivr.net/npm/vega@5?noext\",\n",
              "      \"vega-lib\": \"https://cdn.jsdelivr.net/npm/vega-lib?noext\",\n",
              "      \"vega-lite\": \"https://cdn.jsdelivr.net/npm/vega-lite@5.8.0?noext\",\n",
              "      \"vega-embed\": \"https://cdn.jsdelivr.net/npm/vega-embed@6?noext\",\n",
              "    };\n",
              "\n",
              "    function maybeLoadScript(lib, version) {\n",
              "      var key = `${lib.replace(\"-\", \"\")}_version`;\n",
              "      return (VEGA_DEBUG[key] == version) ?\n",
              "        Promise.resolve(paths[lib]) :\n",
              "        new Promise(function(resolve, reject) {\n",
              "          var s = document.createElement('script');\n",
              "          document.getElementsByTagName(\"head\")[0].appendChild(s);\n",
              "          s.async = true;\n",
              "          s.onload = () => {\n",
              "            VEGA_DEBUG[key] = version;\n",
              "            return resolve(paths[lib]);\n",
              "          };\n",
              "          s.onerror = () => reject(`Error loading script: ${paths[lib]}`);\n",
              "          s.src = paths[lib];\n",
              "        });\n",
              "    }\n",
              "\n",
              "    function showError(err) {\n",
              "      outputDiv.innerHTML = `<div class=\"error\" style=\"color:red;\">${err}</div>`;\n",
              "      throw err;\n",
              "    }\n",
              "\n",
              "    function displayChart(vegaEmbed) {\n",
              "      vegaEmbed(outputDiv, spec, embedOpt)\n",
              "        .catch(err => showError(`Javascript Error: ${err.message}<br>This usually means there's a typo in your chart specification. See the javascript console for the full traceback.`));\n",
              "    }\n",
              "\n",
              "    if(typeof define === \"function\" && define.amd) {\n",
              "      requirejs.config({paths});\n",
              "      require([\"vega-embed\"], displayChart, err => showError(`Error loading script: ${err.message}`));\n",
              "    } else {\n",
              "      maybeLoadScript(\"vega\", \"5\")\n",
              "        .then(() => maybeLoadScript(\"vega-lite\", \"5.8.0\"))\n",
              "        .then(() => maybeLoadScript(\"vega-embed\", \"6\"))\n",
              "        .catch(showError)\n",
              "        .then(() => displayChart(vegaEmbed));\n",
              "    }\n",
              "  })({\"config\": {\"view\": {\"continuousWidth\": 300, \"continuousHeight\": 300}}, \"data\": {\"name\": \"data-d2ac3808883d0da79f94101e0ebdeced\"}, \"mark\": {\"type\": \"bar\"}, \"encoding\": {\"color\": {\"field\": \"Description\", \"type\": \"nominal\"}, \"tooltip\": [{\"field\": \"Description\", \"type\": \"nominal\"}], \"x\": {\"field\": \"interactions\", \"type\": \"quantitative\"}, \"y\": {\"field\": \"Description\", \"sort\": \"-x\", \"type\": \"nominal\"}}, \"params\": [{\"name\": \"param_6\", \"select\": {\"type\": \"interval\", \"encodings\": [\"x\", \"y\"]}, \"bind\": \"scales\"}], \"$schema\": \"https://vega.github.io/schema/vega-lite/v5.8.0.json\", \"datasets\": {\"data-d2ac3808883d0da79f94101e0ebdeced\": [{\"Description\": \"Provided to YouTube by DistroKidNGIJOLA NEBHINCA (feat. MAFIKIZOLO) \\u00b7 Khuthuza \\u00b7 MAFIKIZOLO \\u00b7 SIMZA DA SK \\u00b7 DASK RECORDS.BEST STUDIO IN SOUTH AFRICA FOR ALL ...\", \"interactions\": 3732.0}, {\"Description\": \"We will Never forget .??\\nWe will NEVER stop sharing\\n\\n???? ????STI?? !! ????\", \"interactions\": 1581.0}, {\"Description\": \"Isinconwe ngabaningi inkulumo yeNkatha ngodaba lwabantu bokufika\\n\\nIqembu le IFP selikuvezile ukuthi lona alihambisani nalento eyenzeka lapha e South Africa  yokuthi kugcwale abantu bokufika abangenamaphepha baqedele abantu bakuleli imsebenzi \\n\\nUMongameli we IFP uBaba uVelenkosini Hlabisa uthi Uma ningafaka iNkatha emandleni kungathi kuphela izinyanga eziyisithupha 6 ibe isibabuyisele emumva bonke abokufika iphinde ivale zonke izinkampane eziqasha abantu bokufika. UHlabiba uthe zonke izitole ezincane ezisemalokishini nasemakhaya kumele zibuyele kubantu bakuleli zonke waphinde wathinda indaba yabashayeli bamaloli ukuthi kumele kusebenze abantu bakuleli kuphela kanjalo nabasemafemini kumele kube abantu base South Africa kuphela \\n\\nINkatha kuseyiyona kuphela esakhulume into ecacile ngodaba labokufika abangenamaphepha\", \"interactions\": 1173.0}, {\"Description\": \"BREAKING: News coming out of South Africa ???? is that the ANC government has withdrawn all state security and escort for the fugitive IAN. \\n\\nIAN had yesterday accepted an invitation to attend and speak against the ANC at a political rally in support of the DA without any warning or informing his hosts.\\n\\nHe is currently in hot soup pleading with the ANC government not to withdraw his other privileges after he angered them. \\nHe says he is scared to return to Botswana ???? ????????????\\n\\nHe made a tactical error and now knows his days on the run are numbered. ????????????.\\n\\n#whistleblower\", \"interactions\": 1091.0}, {\"Description\": \"South Africa will be a socialist state without provinces and will have a state-owned bank should the EFF take over the government, says Julius Malema.\", \"interactions\": 872.0}, {\"Description\": \"When Julius Malema was #PRESIDENT of COSAS (Congress of South African Students), It was successful and vibrant. Championing the interests of School Children.\\n\\nWhen Julius Malema was the #PRESIDENT of the ANCYL (African National Congress Youth League) It was successful and vibrant. Championing the needs of the Youth.\\n\\nHe is now the #PRESIDENT of the EFF ( Economic Freedom Fighters), It is successful and vibrant. Championing the needs of poor people. He brought change to parliament and brought back the issue of LAND. Today all polical parties that are formed are talking EFF language.\\n\\nFellow South Africans  Julius Malema is now ready to be #PRESIDENT of South Africa. It will be successful and vibrant. Let Julius Malema do to SA what he has done to COSAS, ANCYL, EFF of Julius Malema. Imagine Julius Malema speaking at the United Nations in New York. Tell me you don't want to see that in your lifetime. We have done it for Nelson Mandela for 30 years, On the 29th of May we must do it for Peter Mokaba or For Winnie Madikizela Mandela uNomzamo.\\n\\nI beg you Fellow South Africans let's give the Son of the Soil the chance to make South Africa Successful and Vibrant.\", \"interactions\": 858.0}, {\"Description\": \"DA is trying to sell South Africa to the United States according to ANC President Cyril Ramaphosa.\", \"interactions\": 844.0}, {\"Description\": \"\\\"Ons is geduldig, maar hoor my lied, die UIM sal die nuwe leierskap van Suid Afrika wees.\\u201d\", \"interactions\": 814.0}, {\"Description\": \"6 Maart 2024 Devon Hofmeyr, wat nog tot gister betrokke was by die Bittereinders beweging, is deur die politieke party, UIM aangewys as sy nasionale jeugleier. Die seun van Steve Hofmeyr het vanoggend tydens \\u2018n mediakonferensie aangekondig dat hy by die UIM aangesluit het. Hy s\\u00ea Suid-Afrika bevin...\", \"interactions\": 665.0}, {\"Description\": \"The IFP exists as a political party to serve the people of South Africa, and to do so in the spirit of ubuntu/botho. Our primary purpose is to serve.\", \"interactions\": 647.0}, {\"Description\": \"Die VF Plus nooi jou uit na die manifesbekendstelling wat oplossings bied om Suid-Afrika te herstel en te bou. | The FF Plus invites you to the manifesto launch which offers solutions to restore and build South Africa.\", \"interactions\": 636.0}, {\"Description\": \"On the 29th of May South Africans have the opportunity to replace this utterly dysfunctional, incompetent government that does not care.\", \"interactions\": 611.0}, {\"Description\": \"Ngizwa I South Africa yonke ithi izovotela i IFP\", \"interactions\": 602.0}, {\"Description\": \"But it\\u2019s four years late, says activist\", \"interactions\": 586.0}, {\"Description\": \"The DA's letter to the US calling for for additional resources to assist South Africa in the upcoming elections has raised eyebrows.\", \"interactions\": 564.0}]}}, {\"mode\": \"vega-lite\"});\n",
              "</script>"
            ],
            "text/plain": [
              "alt.Chart(...)"
            ]
          },
          "execution_count": 68,
          "metadata": {},
          "output_type": "execute_result"
        }
      ],
      "source": [
        "# Top 15 posts with high number of Total Interactions and reshares\n",
        "#This accounts for posts that are direct shares with no added caption or message\n",
        "data_Ls=data.pivot_table(values=['interactions'], index='Description', aggfunc=np.sum).reset_index().sort_values('interactions', ascending=False).head(15)\n",
        "alt.Chart(data_Ls).mark_bar().encode(x='interactions', y=alt.Y('Description:N', sort='-x'), color='Description', tooltip=['Description']).interactive()\n"
      ]
    },
    {
      "cell_type": "code",
      "execution_count": null,
      "metadata": {
        "id": "6s9J5pFjxwo7",
        "outputId": "b49913bc-ca66-4105-89ed-486d814cadb2"
      },
      "outputs": [
        {
          "name": "stderr",
          "output_type": "stream",
          "text": [
            "C:\\Users\\Heineken\\AppData\\Local\\Temp\\ipykernel_10928\\2070090382.py:2: FutureWarning: The provided callable <function sum at 0x000001FEFDE2CCC0> is currently using DataFrameGroupBy.sum. In a future version of pandas, the provided callable will be used directly. To keep current behavior pass the string \"sum\" instead.\n",
            "  data_Ls=data.pivot_table(values=['Comments'], index='Message', aggfunc=np.sum).reset_index().sort_values('Comments', ascending=False).head(15)\n",
            "C:\\Users\\Heineken\\anaconda3\\Lib\\site-packages\\altair\\utils\\core.py:395: FutureWarning: the convert_dtype parameter is deprecated and will be removed in a future version.  Do ``ser.astype(object).apply()`` instead if you want ``convert_dtype=False``.\n",
            "  col = df[col_name].apply(to_list_if_array, convert_dtype=False)\n"
          ]
        },
        {
          "data": {
            "text/html": [
              "\n",
              "<style>\n",
              "  #altair-viz-c7b53642bc764bba990f63e9e852da83.vega-embed {\n",
              "    width: 100%;\n",
              "    display: flex;\n",
              "  }\n",
              "\n",
              "  #altair-viz-c7b53642bc764bba990f63e9e852da83.vega-embed details,\n",
              "  #altair-viz-c7b53642bc764bba990f63e9e852da83.vega-embed details summary {\n",
              "    position: relative;\n",
              "  }\n",
              "</style>\n",
              "<div id=\"altair-viz-c7b53642bc764bba990f63e9e852da83\"></div>\n",
              "<script type=\"text/javascript\">\n",
              "  var VEGA_DEBUG = (typeof VEGA_DEBUG == \"undefined\") ? {} : VEGA_DEBUG;\n",
              "  (function(spec, embedOpt){\n",
              "    let outputDiv = document.currentScript.previousElementSibling;\n",
              "    if (outputDiv.id !== \"altair-viz-c7b53642bc764bba990f63e9e852da83\") {\n",
              "      outputDiv = document.getElementById(\"altair-viz-c7b53642bc764bba990f63e9e852da83\");\n",
              "    }\n",
              "    const paths = {\n",
              "      \"vega\": \"https://cdn.jsdelivr.net/npm/vega@5?noext\",\n",
              "      \"vega-lib\": \"https://cdn.jsdelivr.net/npm/vega-lib?noext\",\n",
              "      \"vega-lite\": \"https://cdn.jsdelivr.net/npm/vega-lite@5.8.0?noext\",\n",
              "      \"vega-embed\": \"https://cdn.jsdelivr.net/npm/vega-embed@6?noext\",\n",
              "    };\n",
              "\n",
              "    function maybeLoadScript(lib, version) {\n",
              "      var key = `${lib.replace(\"-\", \"\")}_version`;\n",
              "      return (VEGA_DEBUG[key] == version) ?\n",
              "        Promise.resolve(paths[lib]) :\n",
              "        new Promise(function(resolve, reject) {\n",
              "          var s = document.createElement('script');\n",
              "          document.getElementsByTagName(\"head\")[0].appendChild(s);\n",
              "          s.async = true;\n",
              "          s.onload = () => {\n",
              "            VEGA_DEBUG[key] = version;\n",
              "            return resolve(paths[lib]);\n",
              "          };\n",
              "          s.onerror = () => reject(`Error loading script: ${paths[lib]}`);\n",
              "          s.src = paths[lib];\n",
              "        });\n",
              "    }\n",
              "\n",
              "    function showError(err) {\n",
              "      outputDiv.innerHTML = `<div class=\"error\" style=\"color:red;\">${err}</div>`;\n",
              "      throw err;\n",
              "    }\n",
              "\n",
              "    function displayChart(vegaEmbed) {\n",
              "      vegaEmbed(outputDiv, spec, embedOpt)\n",
              "        .catch(err => showError(`Javascript Error: ${err.message}<br>This usually means there's a typo in your chart specification. See the javascript console for the full traceback.`));\n",
              "    }\n",
              "\n",
              "    if(typeof define === \"function\" && define.amd) {\n",
              "      requirejs.config({paths});\n",
              "      require([\"vega-embed\"], displayChart, err => showError(`Error loading script: ${err.message}`));\n",
              "    } else {\n",
              "      maybeLoadScript(\"vega\", \"5\")\n",
              "        .then(() => maybeLoadScript(\"vega-lite\", \"5.8.0\"))\n",
              "        .then(() => maybeLoadScript(\"vega-embed\", \"6\"))\n",
              "        .catch(showError)\n",
              "        .then(() => displayChart(vegaEmbed));\n",
              "    }\n",
              "  })({\"config\": {\"view\": {\"continuousWidth\": 300, \"continuousHeight\": 300}}, \"data\": {\"name\": \"data-f847aba12d960f25f42cea7c5eaa7888\"}, \"mark\": {\"type\": \"bar\"}, \"encoding\": {\"color\": {\"field\": \"Message\", \"type\": \"nominal\"}, \"tooltip\": [{\"field\": \"Message\", \"type\": \"nominal\"}], \"x\": {\"field\": \"Comments\", \"type\": \"quantitative\"}, \"y\": {\"field\": \"Message\", \"sort\": \"-x\", \"type\": \"nominal\"}}, \"params\": [{\"name\": \"param_7\", \"select\": {\"type\": \"interval\", \"encodings\": [\"x\", \"y\"]}, \"bind\": \"scales\"}], \"$schema\": \"https://vega.github.io/schema/vega-lite/v5.8.0.json\", \"datasets\": {\"data-f847aba12d960f25f42cea7c5eaa7888\": [{\"Message\": \"nan\", \"Comments\": 3842}, {\"Message\": \"???? Election Day on 29 May 2024 confirmed: Bring It On! The DA is committed to bringing an end to 30 years of ANC failure, corruption, and state capture. The upcoming election is an opportunity for the people of South Africa to choose a path of progress and unite to #RescueSA.\", \"Comments\": 1261}, {\"Message\": \"IFP President Hlabisa: iphuzu lokuqala imisebenzi, SETHEMBE siza nayo ngempela. Isithunzi somuntu sibuyiswa ukuthi umuntu asebenze. Umgomo wethu uthi kufanele sithuthukise ezomnotho. Sizokwenza kanje lokhu: Uhulumeni wethu uzoshaya umgomo othi u 80% wabasebenzi ezinkampanini kube ngabantu base South Africa kuphela. ZONKE izitolo eziphethwe ngabantu bangaphandle mazibuyele kubantu base SA. Kasibandlululi abantu bangaphandle ngokusho lokho. Sifuna ukuthuthukisa osomabhizinisi bakithi ukuze baqashe abantu. Sizoqala I grant kaR3000 yezitshudeni ezihleli emakhaya. Sizothatha lama billions amarandi kwaSETA siwafake komasipala bese zonke izifundiswa zithole ama internships. #IFPManifestoLaunch\", \"Comments\": 678}, {\"Message\": \"Between EFF DA & MK Who Can Replace ANC ? What Is The Next 4 Years Going To Look Like In South Africa\", \"Comments\": 629}, {\"Message\": \"Zuma tried to destroy South Africa, says Mbeki as he lashes out at successor: Former President Thabo Mbeki had quite a lot to say this week about his successor, former President Jacob Zuma and the Zuma-backed MK party. \\u2022Mbeki accused Zuma of setting out to destroy the SA Revenue Service (SARS) and South Africa's democracy. He also suggested that things in South Africa took a turn for the worse during Zuma's administration. \\\"...Take the MK Party... You can't say, I remain a member of the ANC, but I support a party that is going to campaign to defeat the ANC. That doesn't make sense. One of those two things is wrong,\\\" said Mbeki. \\u2022\\\"Take that [MK breakaway]...It is led by the same people that tried to destroy SARS. This is exactly the same people. So you can understand who they are,\\\" \\\"You destroy SARS, you destroy the democratic state, and yet there were people who took the decision to do exactly that.\\\" \\u2022\\\"And, of course, we know who the president was; it [the state capture report] says so in black and white that Jacob Zuma was part of it,\\\" continued Mbeki. Before concluding his engagement at Unisa this Wednesday, Mbeki also slammed the DA for writing a letter to the United States government. Photo credit: Daily Dispatch\", \"Comments\": 600}, {\"Message\": \"DA ke yona tsela ya tharollo mathatheng a South Africa e lebanego le ona. #Viva DA Viva\", \"Comments\": 585}, {\"Message\": \"South Africa will be a socialist state without provinces and will have a state-owned bank should the EFF take over the government, says Julius Malema.\", \"Comments\": 530}, {\"Message\": \"The Democratic Alliance (DA) is trying to sell South Africa to the United States according to African National Congress (ANC) President Cyril Ramaphosa. \", \"Comments\": 454}, {\"Message\": \"From 1974 to 1994 kunini la IFP ilwela ilungel lomunt omnyama South Africa Vs abacindezeli amabhunu Give me date and venue\", \"Comments\": 448}, {\"Message\": \"Die Suid-Afrika van vandag is \\u2019n heel ander plek as wat dit 30 jaar gelede was, s\\u00ea pres. Cyril Ramaphosa.\", \"Comments\": 418}, {\"Message\": \"MWAISENI YAMA HON ROBERT KALIMI & WE THANK GOD FOR HIS HEALING MERCIES ???? By Miles Bwalya Sampa, MP February 28th, 2024 Welcome back home Hon Robert Kalimi and we thank God for his healing mercies so many months since the unfortunate Road accident. The people of Malole constituency in Kasama district can now have back into Parliament their voice through you to represent their challenges. Many thanks to all that played vital roles in the process of ensuring our beloved Hon Kalimi's life is preserved to current good recovery. Some of these are; 1) The Republican President HH who only through his approval directly or indirectly, any Zambian gets evacuated for medical treatment on government coffers. 2) The Speaker of National Assembly Her Honour Nellie Mutti who has been supportive 100% and kept a close eye towards the Hon's recovery. At one point or another, She authorized and personally led a Parliament entourage to visit the Hon at the hospital in SA. 3) The Mansa Central MP Hon Dr Chitalu Chilufya who provided the vital medical link and know how from the accident day to evacuation and later between Zambia and the South African Doctors that handled his hospital files. 4) Leader of Oppostion Hon Robert Chabinga that visited him in hospital often and also coordinated Parliament and Executive the support needed. Over Christmas period he led his family to visit Hon Kalimi and family at his hospital bed. They spent entire day together and enjoyed the Christmas meals together. I gather the two families had a good time on that day. 5) Hon Kalimi's wife that was by his bedside all these months both in Zambia (Levy & UTH) and in SA (Milpark Hospital). 6) Hon Kalimi&s elder sister that has been at her brother's bedside both in Zambia and South Africa for over 6 months or so. I visited Hon Kalimi last while in the hospital in South Africa and knew he would be back home soon because he was passing same jokes on me (he calls nephew) as used to before the unfortunate incident. Lesa wamaka and welcome back Yama. MBS28.02.2024\", \"Comments\": 406}, {\"Message\": \"Dopo la vittoria in Galles saliamo all\\u2019ottavo posto del Ranking di World Rugby. \\u00c8 un buon momento ma c\\u2019\\u00e8 tanto ancora da fare per costruire delle solide basi del nostro movimento. Buon lavoro a tutto il sistema rugby italiano, questo traguardo \\u00e8 di tutti ???????? #worldrugby #WorldRugbyRanking #italiarugby #rugbypassioneitaliana\", \"Comments\": 399}, {\"Message\": \"#LIVE_PROF\\u00c9TICA_DA_TARDE #TEMA: A GL\\u00d3RIA DA SEGUNDA CASA ?? #AGEU_2_9 Siga A P\\u00e1gina: \", \"Comments\": 374}, {\"Message\": \"Amaqembu awu 3 kulawa awu 4 amakhulu e South Africa asewathulile ama Manifesto awo. Sesilinde i IFP mhlaka 10 March e Moses Mabhida Stadium.\", \"Comments\": 370}, {\"Message\": \"Ngizwa I South Africa yonke ithi izovotela i IFP\", \"Comments\": 368}]}}, {\"mode\": \"vega-lite\"});\n",
              "</script>"
            ],
            "text/plain": [
              "alt.Chart(...)"
            ]
          },
          "execution_count": 69,
          "metadata": {},
          "output_type": "execute_result"
        }
      ],
      "source": [
        "# Most Commented messages\n",
        "data_Ls=data.pivot_table(values=['Comments'], index='Message', aggfunc=np.sum).reset_index().sort_values('Comments', ascending=False).head(15)\n",
        "alt.Chart(data_Ls).mark_bar().encode(x='Comments', y=alt.Y('Message:N', sort='-x'), color='Message', tooltip=['Message']).interactive()"
      ]
    },
    {
      "cell_type": "code",
      "execution_count": null,
      "metadata": {
        "id": "AWvUD3mkxwo7"
      },
      "outputs": [],
      "source": [
        "## print table with Message and their links\n",
        "table=pd.DataFrame()\n",
        "for i in range(15):\n",
        "    table.loc[i, 'Message']=data_Ls.reset_index().drop('index', axis=1).loc[i, 'Message']\n",
        "    k=data_Ls.reset_index().drop('index', axis=1).loc[i, 'Message']\n",
        "    l=data[data['Message']==k]['URL'].tolist()\n",
        "    table.loc[i, 'Link']=l[0]# you can take every number in range(len(l)) incase an url doesn't open\n",
        "table"
      ]
    },
    {
      "cell_type": "code",
      "execution_count": null,
      "metadata": {
        "id": "fsT0nJf3xwo7",
        "outputId": "84199911-df7f-4263-b4ae-24a06ea8c9b2"
      },
      "outputs": [
        {
          "name": "stderr",
          "output_type": "stream",
          "text": [
            "C:\\Users\\Heineken\\AppData\\Local\\Temp\\ipykernel_10928\\1305261736.py:2: FutureWarning: The provided callable <function sum at 0x000001FEFDE2CCC0> is currently using DataFrameGroupBy.sum. In a future version of pandas, the provided callable will be used directly. To keep current behavior pass the string \"sum\" instead.\n",
            "  data_Ls=data.pivot_table(values=['Likes'], index='Message', aggfunc=np.sum).reset_index().sort_values('Likes', ascending=False).head(15)\n",
            "C:\\Users\\Heineken\\anaconda3\\Lib\\site-packages\\altair\\utils\\core.py:395: FutureWarning: the convert_dtype parameter is deprecated and will be removed in a future version.  Do ``ser.astype(object).apply()`` instead if you want ``convert_dtype=False``.\n",
            "  col = df[col_name].apply(to_list_if_array, convert_dtype=False)\n"
          ]
        },
        {
          "data": {
            "text/html": [
              "\n",
              "<style>\n",
              "  #altair-viz-fec8b9e147e645149153dfd01dc4d772.vega-embed {\n",
              "    width: 100%;\n",
              "    display: flex;\n",
              "  }\n",
              "\n",
              "  #altair-viz-fec8b9e147e645149153dfd01dc4d772.vega-embed details,\n",
              "  #altair-viz-fec8b9e147e645149153dfd01dc4d772.vega-embed details summary {\n",
              "    position: relative;\n",
              "  }\n",
              "</style>\n",
              "<div id=\"altair-viz-fec8b9e147e645149153dfd01dc4d772\"></div>\n",
              "<script type=\"text/javascript\">\n",
              "  var VEGA_DEBUG = (typeof VEGA_DEBUG == \"undefined\") ? {} : VEGA_DEBUG;\n",
              "  (function(spec, embedOpt){\n",
              "    let outputDiv = document.currentScript.previousElementSibling;\n",
              "    if (outputDiv.id !== \"altair-viz-fec8b9e147e645149153dfd01dc4d772\") {\n",
              "      outputDiv = document.getElementById(\"altair-viz-fec8b9e147e645149153dfd01dc4d772\");\n",
              "    }\n",
              "    const paths = {\n",
              "      \"vega\": \"https://cdn.jsdelivr.net/npm/vega@5?noext\",\n",
              "      \"vega-lib\": \"https://cdn.jsdelivr.net/npm/vega-lib?noext\",\n",
              "      \"vega-lite\": \"https://cdn.jsdelivr.net/npm/vega-lite@5.8.0?noext\",\n",
              "      \"vega-embed\": \"https://cdn.jsdelivr.net/npm/vega-embed@6?noext\",\n",
              "    };\n",
              "\n",
              "    function maybeLoadScript(lib, version) {\n",
              "      var key = `${lib.replace(\"-\", \"\")}_version`;\n",
              "      return (VEGA_DEBUG[key] == version) ?\n",
              "        Promise.resolve(paths[lib]) :\n",
              "        new Promise(function(resolve, reject) {\n",
              "          var s = document.createElement('script');\n",
              "          document.getElementsByTagName(\"head\")[0].appendChild(s);\n",
              "          s.async = true;\n",
              "          s.onload = () => {\n",
              "            VEGA_DEBUG[key] = version;\n",
              "            return resolve(paths[lib]);\n",
              "          };\n",
              "          s.onerror = () => reject(`Error loading script: ${paths[lib]}`);\n",
              "          s.src = paths[lib];\n",
              "        });\n",
              "    }\n",
              "\n",
              "    function showError(err) {\n",
              "      outputDiv.innerHTML = `<div class=\"error\" style=\"color:red;\">${err}</div>`;\n",
              "      throw err;\n",
              "    }\n",
              "\n",
              "    function displayChart(vegaEmbed) {\n",
              "      vegaEmbed(outputDiv, spec, embedOpt)\n",
              "        .catch(err => showError(`Javascript Error: ${err.message}<br>This usually means there's a typo in your chart specification. See the javascript console for the full traceback.`));\n",
              "    }\n",
              "\n",
              "    if(typeof define === \"function\" && define.amd) {\n",
              "      requirejs.config({paths});\n",
              "      require([\"vega-embed\"], displayChart, err => showError(`Error loading script: ${err.message}`));\n",
              "    } else {\n",
              "      maybeLoadScript(\"vega\", \"5\")\n",
              "        .then(() => maybeLoadScript(\"vega-lite\", \"5.8.0\"))\n",
              "        .then(() => maybeLoadScript(\"vega-embed\", \"6\"))\n",
              "        .catch(showError)\n",
              "        .then(() => displayChart(vegaEmbed));\n",
              "    }\n",
              "  })({\"config\": {\"view\": {\"continuousWidth\": 300, \"continuousHeight\": 300}}, \"data\": {\"name\": \"data-9a1108cb74b86bf4a9384035cc82b5a6\"}, \"mark\": {\"type\": \"bar\"}, \"encoding\": {\"color\": {\"field\": \"Message\", \"type\": \"nominal\"}, \"tooltip\": [{\"field\": \"Message\", \"type\": \"nominal\"}], \"x\": {\"field\": \"Likes\", \"type\": \"quantitative\"}, \"y\": {\"field\": \"Message\", \"sort\": \"-x\", \"type\": \"nominal\"}}, \"params\": [{\"name\": \"param_8\", \"select\": {\"type\": \"interval\", \"encodings\": [\"x\", \"y\"]}, \"bind\": \"scales\"}], \"$schema\": \"https://vega.github.io/schema/vega-lite/v5.8.0.json\", \"datasets\": {\"data-9a1108cb74b86bf4a9384035cc82b5a6\": [{\"Message\": \"LA FURBIZIA DEGLI ANIMALI L'Anthoscopus \\u00e8 uccello che ha sviluppato una tecnica difensiva della prole unica nel suo genere. Per fare ci\\u00f2 ha creato un nido con un ingresso segreto e nascosto. Il falso ingresso \\u00e8 ben visibile, facilmente individuabile dal predatore. Sopra di esso si nasconde per\\u00f2 l\\u2019ingresso al nido vero e proprio, attraverso un piccolo foro. Questo uccello abita l'Africa sub-sahariana e, a differenza di molti di questi uccelli eurasiatici, non migra e rimane tutto l'anno vicino ai luoghi di riproduzione. Monogamo, produce due cucciolate per stagione riproduttiva. Entrambi i sessi costruiscono il nido, la stagione della deposizione avviene quasi tutto l'anno, con un picco durante l'estate. Depone da 4 a 7 uova, che vengono incubate da entrambi i sessi per circa 13-15 giorni. I pulcini lasciano il nido dopo 16-22 giorni, diventando indipendenti solo al termine della stagione riproduttiva. Seguidifferent. se sei appassionato di scienza e divulgazione. Fonte: \\u201cA False Entrance To The Cape Penduline Tit\\u2019s Nest\\u201d, Gondwana Collection Namibia; \\u201cAnthoscopus minutus (Cape penduline-tit)\\u201d, Museum of South Africa Credit foto: IGUi WORLDWIDE Credit video: Coerie Ferreira, YouTube Credit audio: Geoff Harvey, Pixabay\", \"Likes\": 19576}, {\"Message\": \"Dopo la vittoria in Galles saliamo all\\u2019ottavo posto del Ranking di World Rugby. \\u00c8 un buon momento ma c\\u2019\\u00e8 tanto ancora da fare per costruire delle solide basi del nostro movimento. Buon lavoro a tutto il sistema rugby italiano, questo traguardo \\u00e8 di tutti ???????? #worldrugby #WorldRugbyRanking #italiarugby #rugbypassioneitaliana\", \"Likes\": 8468}, {\"Message\": \"nan\", \"Likes\": 7909}, {\"Message\": \"???? Election Day on 29 May 2024 confirmed: Bring It On! The DA is committed to bringing an end to 30 years of ANC failure, corruption, and state capture. The upcoming election is an opportunity for the people of South Africa to choose a path of progress and unite to #RescueSA.\", \"Likes\": 5264}, {\"Message\": \"MOMO! The late Said \\\"Momo\\\"Mohamed of the popular song \\\"Oule\\\" originated from the Comoros Island.He has been living in Botswana for many years till his death.He came from a strict Islamic family that had reservations about his musical career. His illustrious career started in France where he rubbed shoulders with musos like Manu Dibango up to South Africa where he worked with a band called Shine.He recorded his album in Nosey Road Studios called In African Renaissance.In Botswana he has worked with Da Vet Crew Dolly Setiloane,Harry Mayaga just to mention a few. Momo will still remain in the hearts of Batswana forever.Momo o mogaka rra! ................................................................................. PLEASE FOLLOW THIS PAGE: \", \"Likes\": 3787}, {\"Message\": \"BAL 2024 Confira a tabela classificativa da Confer\\u00eancia Kalahari \\u00e0 sa\\u00edda da 4.\\u00aa jornada:\", \"Likes\": 1627}, {\"Message\": \"Nigerians don cry tire after dem hear say their defender wey im name na Zaidu Sanusi don carry beta injUry wey fit make am no play ball again this season.?? Zaidu Sanusi bin carry serious InjUry when Porto dey play against Estrela da Amadora on Saturday and hin club don confirm say Sanusi rupture hin left knee\\u2019s anterior cruciate ligament (ACL InjUry). On a norms, e dey take five-nine months to recover from ACL injUry which means Zaidu Sanusi fit no play ball again this season and Porto get Champions league match with Arsenal on Wednesday and Nigeria still get Worldcup qualifiers with South Africa in June 2024.?? Abeg make una wish am quick recovery\", \"Likes\": 1541}, {\"Message\": \"Ova fotografija definitivno ide na zid?? Ju\\u017ena Afrika je bila prava avantura. Kada smo dolazili, nisam bila sigurna \\u0161to mogu o?ekivati, ali odlazim sa preporukama za one koji idu samo u turizam, kao i za one koji tra\\u017ee nove lokacije za plivanje. Priroda, ljudi, povijest sve je ono \\u0161to ovu zemlju ?ini posebnom. Jo\\u0161 jednom sam imala priliku zaplivati gdje rijetki dobiju \\u0161ansu i usude se. Svaki put mislim da nema na?ina da se iznova odu\\u0161evim s lokacijama na kojima plivam, ali ovoga puta sam bila debelo u krivu. I zato ?u re?i samo do vi?enja, ne i zbogom ???? ????South Africa was a real adventure. When we were arriving, I wasn't sure what to expect, but I leave with only recommendations for those who look only for tourism, as well as for those who are looking for new swimming locations. Nature, people, history are all what make this country special. Once again, I had the opportunity to swim where few get the chance, and dare. Every time I think that there is no way to get excited about the locations I swim in again, but this time I was very wrong. And that's why I'll only say see you later and not goodbye ???? #acimarinas #ACI #raiffeisenbank #RBA #speedohrvatska #whiteshark #civilengineeringconsultancy #zracnalukasvetijeronim #antimetilhrvatska #putnamu?nina #perskindolhrvatska #aktivan\\u017eivot #croatiafulloflife BigBayEvents\", \"Likes\": 1495}, {\"Message\": \"\", \"Likes\": 1412}, {\"Message\": \"Wakati Simba inaikaribisha RS BERKANE hapa Tanzania Rais ya Yanga aliwakaribisha na kuongea kwa Video Call na wachezaji wa Berkane wazi wazi kabisa. Wakati Simba inaikaribisha AL ALHY hapa Tanzania CEO wa Yanga Senzo alienda Hotelini kwa Al Alhy Serena na kuongea nao na kuwapa muongozo kibao ndugu yake Pitso Mosimane. Wakati Simba inaikaribisha KAIZER CHIEF hapa Tanzania Rais wa Yanga Alivaa Jezi ya Kaizer Chief na kupost waziwazi kuonyesha uzalendo wake ulipo. Sasahivi YANGA ndio wanaona ni makosa kwa Amrouche kuwepo Hotelini kwa Wa ALGERIA wenzake wakati wanafanya wao Chawa na Media zilisema hakuna shida ni vitu Binafsi vya Watu Tusiingilie IWEJE NOW SASA WANAONA NI KOSA? Kocha Amrouche aliwasaidia sana Yanga katika mechi za South Africa na Algeria na alijitoa mpaka kwenda na hii ilisababishwa kwa Karibu na Kocha Nabi maana alikuwa mwanafunzi wa Amrouche katika kozi ya Juu ya Ukocha Belgium na ni Mu Algeria mwenzake. Sasa Amrouche aende Yanga kuwasaidia kama nani wakati hata alipowasaidia wakati ule hawakumpa Shukrani yake waliingia mitini, Wanaona yupo na wa nyumbani kwao wanaanza kupiga kelele hizi ni Propaganda Nyepesi sana. Hivi Mlitoaje Shukrani alipowatendea uungwana kipindi cha nyuma? ??Didier Gomez Da Rosa alipokutana na vijana wake wa zamani Haiusiani na upuuzi wa utopolo\", \"Likes\": 1392}, {\"Message\": \"MWAISENI YAMA HON ROBERT KALIMI & WE THANK GOD FOR HIS HEALING MERCIES ???? By Miles Bwalya Sampa, MP February 28th, 2024 Welcome back home Hon Robert Kalimi and we thank God for his healing mercies so many months since the unfortunate Road accident. The people of Malole constituency in Kasama district can now have back into Parliament their voice through you to represent their challenges. Many thanks to all that played vital roles in the process of ensuring our beloved Hon Kalimi's life is preserved to current good recovery. Some of these are; 1) The Republican President HH who only through his approval directly or indirectly, any Zambian gets evacuated for medical treatment on government coffers. 2) The Speaker of National Assembly Her Honour Nellie Mutti who has been supportive 100% and kept a close eye towards the Hon's recovery. At one point or another, She authorized and personally led a Parliament entourage to visit the Hon at the hospital in SA. 3) The Mansa Central MP Hon Dr Chitalu Chilufya who provided the vital medical link and know how from the accident day to evacuation and later between Zambia and the South African Doctors that handled his hospital files. 4) Leader of Oppostion Hon Robert Chabinga that visited him in hospital often and also coordinated Parliament and Executive the support needed. Over Christmas period he led his family to visit Hon Kalimi and family at his hospital bed. They spent entire day together and enjoyed the Christmas meals together. I gather the two families had a good time on that day. 5) Hon Kalimi's wife that was by his bedside all these months both in Zambia (Levy & UTH) and in SA (Milpark Hospital). 6) Hon Kalimi&s elder sister that has been at her brother's bedside both in Zambia and South Africa for over 6 months or so. I visited Hon Kalimi last while in the hospital in South Africa and knew he would be back home soon because he was passing same jokes on me (he calls nephew) as used to before the unfortunate incident. Lesa wamaka and welcome back Yama. MBS28.02.2024\", \"Likes\": 1384}, {\"Message\": \"Sre?om uvijek netko pored mene se vi\\u0161e brine od mene same, tako je bilo i ju?er ??. Kako smo dan prije saznali da je uslijed sna\\u017enog i nepovoljnog vjetra do\\u0161lo do naglog pada temperature mora na 11.5\\u00b0C, \\u0161to je vrlo ?esto za Atlantik, zavladala je panika u mom timu (?itaj mama). Rekla sam \\\"nemamo vi\\u0161e vremena, idemo, pa kako bude\\\". Po nas je stigla Michelle, izvrsna, iskusna i vrlo spretna kapetanica. Mi se nismo ni okrenuli, ona je ve? porinula gumenjak u more. More se ?inilo idealno, mirno i tiho, samo mi je davalo naznaku da ima kurenta. Brzo smo stigli do mjesta za start, Robben Island. Michelle nas obavije\\u0161tava da je more 15\\u00b0C! Ja sritna, a mama prisritna, ali svi znamo da ?e pasti puno ni\\u017ee. Kre?em u preplivavanje potpuno neoptere?ena i sretna \\u0161to sam dobila priliku zaplivati FREEDOM SWIM ??. Sa Robbena me ispra?a mno\\u0161tvo vranaca, \\u0161to mi daje dodatno samopouzdanje. More je i dalje mirno. Uigrano smo odradili prvo hranjenje. I onda osjetim veliku hladno?u, temperatura mora pada na 12.5\\u00b0C, \\\"dobro je Dina, izdr\\u017ei\\\" i nastavim dalje. ALI, vrlo brzo more opet sko?i na 15 i sad ve? znate tko je sretniji od mene ??. Nema veze \\u0161to ja imam ?epi?e i zna da je ne ?ujem, ali ona se veseli, ska?e, daje mi podr\\u0161ku, iako smo tek na pola puta. Michelle je iznena?ena dana\\u0161njom temperaturom mora, koja je gotovo cijelim putem bila oko 15\\u00b0C. Pribli\\u017eavamo se cilju i dobivam uputu da poja?am zbog kurenta. Odli?no se osje?am, na trenutke mi je ?ak i vru?e ??. Ulazak u cilj, nezaboravno. Plivam sama no\\u0161ena surferskim valovima do prekrasne pje\\u0161?ane pla\\u017ee Blouberg. Potpoljena sam vi\\u0161e puta i izlazak nije bio jednostavan, ali je bio jedinstven kao i svaki u Ju\\u017enoj Africi. Dobijam podr\\u0161ku lokalnih surfera. Izlazim di\\u017eem ruke u zrak i \\u0161toperica staje na 2:11:57. ????Fortunately, there is always someone next to me who worries more than I do myself, that was the case yesterday too ??. As we learned the day before that due to a strong and unfavorable wind there was a sudden drop in the sea temperature to 11.5\\u00b0C, which is very common for the Atlantic, panic reigned in my team (read mom). I said \\\"we don't have any more time, let's go, whatever happens \\\". Michelle, an excellent, experienced and very skilled captain, came to pick us up. We didn't even turn around, she had already launched the boat into the sea. The sea seemed ideal, calm and quiet, it only gave me an indication that there was a current. We quickly reached the starting point, Robben Island. Michelle informs us that the sea is 15\\u00b0C! I'm happy, and mom is happy, but we all know it will fall much lower. I start the swim completely unburdened and happy that I got the chance to swim FREEDOM SWIM ??. A lot of cormorants see me off from Robben, which gives me extra confidence. The sea is still calm. We did the first feeding. And then I feel very cold, the sea temperature drops to 12.5\\u00b0C, \\\"it's fine Dina, hold on\\\" and I continue on. BUT, very soon the sea jumps to 15 again and now you already know who is happier than me ??. It doesn't matter that I have earplugs and she knows I can't hear her, but she's happy, jumping, supporting me, even though we're only halfway there. Michelle is surprised by today's sea temperature, which was around 15\\u00b0C almost the entire way. We are getting close to the finish line and I am instructed to increase the speed because of the current. I feel great, sometimes I even feel hot ??. Entering the finish line, unforgettable. I swim alone carried by the surf waves to the beautiful sandy beach of Blouberg. I have been pushed by waves more than once and the exit was not easy, but it was as unique as any in South Africa. I get support from local surfers. I go out, raise my hands in the air and the stopwatch stops at 2:11:57. #acimarinas #ACI #raiffeisenbank #RBA #speedohrvatska #whiteshark #civilengineeringconsultancy #zracnalukasvetijeronim #antimetilhrvatska #putnamu?nina #perskindolhrvatska #aktivan\\u017eivot #croatiafulloflife\", \"Likes\": 1077}, {\"Message\": \"??In Pictures?? CIC Julius Malema meeting with international investors at Rand Merchant Bank to reflect on the EFF Manifesto and the role of the private sector once the EFF assumes government in South Africa The CIC tells the investors In the past the ANC has utilised its majority to protect corruption, such as when they blocked the impeachment process on Phala Phala Corruption by Cyril\\u2019s Ramaphosa, and even blocked an investigation into corruption at ESKOM in Parliament To defeat corruption, we must defeat the ANC. The EFF Is Preparing To Govern!\", \"Likes\": 879}, {\"Message\": \"Jerin kasashen Afrika da matsalar Network ya shafa.\", \"Likes\": 878}, {\"Message\": \"??In Pictures?? CIC Julius Malema with the Secretary General Dlamini Marshall at the state of the art EFF National Operation Centre for the 2024 Elections It is from this nerve centre, that all submissions from the EFF door to door campaign in every ward of South Africa will be verified, and all results across the country will be verified on voting day! The EFF will be calling you soon! The battle lines have been drawn! Vote EFF ON THE 29th OF MAY 2023 #VoteEFF\", \"Likes\": 877}]}}, {\"mode\": \"vega-lite\"});\n",
              "</script>"
            ],
            "text/plain": [
              "alt.Chart(...)"
            ]
          },
          "execution_count": 71,
          "metadata": {},
          "output_type": "execute_result"
        }
      ],
      "source": [
        "#Most Liked Message\n",
        "data_Ls=data.pivot_table(values=['Likes'], index='Message', aggfunc=np.sum).reset_index().sort_values('Likes', ascending=False).head(15)\n",
        "alt.Chart(data_Ls).mark_bar().encode(x='Likes', y=alt.Y('Message:N', sort='-x'), color='Message', tooltip=['Message']).interactive()"
      ]
    },
    {
      "cell_type": "code",
      "execution_count": null,
      "metadata": {
        "id": "pOkKFN03xwo7",
        "outputId": "2ad3261c-7a78-4837-b4eb-7381c01d6309"
      },
      "outputs": [
        {
          "name": "stderr",
          "output_type": "stream",
          "text": [
            "C:\\Users\\Heineken\\AppData\\Local\\Temp\\ipykernel_10928\\4218032146.py:2: FutureWarning: The provided callable <function sum at 0x000001FEFDE2CCC0> is currently using DataFrameGroupBy.sum. In a future version of pandas, the provided callable will be used directly. To keep current behavior pass the string \"sum\" instead.\n",
            "  data_Ls=data.pivot_table(values=['Angry'], index='Message', aggfunc=np.sum).reset_index().sort_values('Angry', ascending=False).head(15)\n",
            "C:\\Users\\Heineken\\anaconda3\\Lib\\site-packages\\altair\\utils\\core.py:395: FutureWarning: the convert_dtype parameter is deprecated and will be removed in a future version.  Do ``ser.astype(object).apply()`` instead if you want ``convert_dtype=False``.\n",
            "  col = df[col_name].apply(to_list_if_array, convert_dtype=False)\n"
          ]
        },
        {
          "data": {
            "text/html": [
              "\n",
              "<style>\n",
              "  #altair-viz-b6e80fbb9e304a48be9f0048c5d8e6b0.vega-embed {\n",
              "    width: 100%;\n",
              "    display: flex;\n",
              "  }\n",
              "\n",
              "  #altair-viz-b6e80fbb9e304a48be9f0048c5d8e6b0.vega-embed details,\n",
              "  #altair-viz-b6e80fbb9e304a48be9f0048c5d8e6b0.vega-embed details summary {\n",
              "    position: relative;\n",
              "  }\n",
              "</style>\n",
              "<div id=\"altair-viz-b6e80fbb9e304a48be9f0048c5d8e6b0\"></div>\n",
              "<script type=\"text/javascript\">\n",
              "  var VEGA_DEBUG = (typeof VEGA_DEBUG == \"undefined\") ? {} : VEGA_DEBUG;\n",
              "  (function(spec, embedOpt){\n",
              "    let outputDiv = document.currentScript.previousElementSibling;\n",
              "    if (outputDiv.id !== \"altair-viz-b6e80fbb9e304a48be9f0048c5d8e6b0\") {\n",
              "      outputDiv = document.getElementById(\"altair-viz-b6e80fbb9e304a48be9f0048c5d8e6b0\");\n",
              "    }\n",
              "    const paths = {\n",
              "      \"vega\": \"https://cdn.jsdelivr.net/npm/vega@5?noext\",\n",
              "      \"vega-lib\": \"https://cdn.jsdelivr.net/npm/vega-lib?noext\",\n",
              "      \"vega-lite\": \"https://cdn.jsdelivr.net/npm/vega-lite@5.8.0?noext\",\n",
              "      \"vega-embed\": \"https://cdn.jsdelivr.net/npm/vega-embed@6?noext\",\n",
              "    };\n",
              "\n",
              "    function maybeLoadScript(lib, version) {\n",
              "      var key = `${lib.replace(\"-\", \"\")}_version`;\n",
              "      return (VEGA_DEBUG[key] == version) ?\n",
              "        Promise.resolve(paths[lib]) :\n",
              "        new Promise(function(resolve, reject) {\n",
              "          var s = document.createElement('script');\n",
              "          document.getElementsByTagName(\"head\")[0].appendChild(s);\n",
              "          s.async = true;\n",
              "          s.onload = () => {\n",
              "            VEGA_DEBUG[key] = version;\n",
              "            return resolve(paths[lib]);\n",
              "          };\n",
              "          s.onerror = () => reject(`Error loading script: ${paths[lib]}`);\n",
              "          s.src = paths[lib];\n",
              "        });\n",
              "    }\n",
              "\n",
              "    function showError(err) {\n",
              "      outputDiv.innerHTML = `<div class=\"error\" style=\"color:red;\">${err}</div>`;\n",
              "      throw err;\n",
              "    }\n",
              "\n",
              "    function displayChart(vegaEmbed) {\n",
              "      vegaEmbed(outputDiv, spec, embedOpt)\n",
              "        .catch(err => showError(`Javascript Error: ${err.message}<br>This usually means there's a typo in your chart specification. See the javascript console for the full traceback.`));\n",
              "    }\n",
              "\n",
              "    if(typeof define === \"function\" && define.amd) {\n",
              "      requirejs.config({paths});\n",
              "      require([\"vega-embed\"], displayChart, err => showError(`Error loading script: ${err.message}`));\n",
              "    } else {\n",
              "      maybeLoadScript(\"vega\", \"5\")\n",
              "        .then(() => maybeLoadScript(\"vega-lite\", \"5.8.0\"))\n",
              "        .then(() => maybeLoadScript(\"vega-embed\", \"6\"))\n",
              "        .catch(showError)\n",
              "        .then(() => displayChart(vegaEmbed));\n",
              "    }\n",
              "  })({\"config\": {\"view\": {\"continuousWidth\": 300, \"continuousHeight\": 300}}, \"data\": {\"name\": \"data-2c2cb5f7cb5cc50b336ad24ee5fe3bb5\"}, \"mark\": {\"type\": \"bar\"}, \"encoding\": {\"color\": {\"field\": \"Message\", \"type\": \"nominal\"}, \"tooltip\": [{\"field\": \"Message\", \"type\": \"nominal\"}], \"x\": {\"field\": \"Angry\", \"type\": \"quantitative\"}, \"y\": {\"field\": \"Message\", \"sort\": \"-x\", \"type\": \"nominal\"}}, \"params\": [{\"name\": \"param_9\", \"select\": {\"type\": \"interval\", \"encodings\": [\"x\", \"y\"]}, \"bind\": \"scales\"}], \"$schema\": \"https://vega.github.io/schema/vega-lite/v5.8.0.json\", \"datasets\": {\"data-2c2cb5f7cb5cc50b336ad24ee5fe3bb5\": [{\"Message\": \"Hello, Fam. ?? Join the NSFAS team as they exhibit at the #PresidentialImbizo on March 7 at the Sy Mthimunye Stadium in Emalahleni Local Municipality, Nkangala District, Mpumalanga. Let's #LeaveNoOneBehind ????\", \"Angry\": 93}, {\"Message\": \"nan\", \"Angry\": 59}, {\"Message\": \"Hey Fam ?? NSFAS team is excited to be a part of the #PresidentialImbizo to be held 7 March at the Sy Mthimunye Stadium in the Emalahleni Local Municipality, Nkangala District, Mpumalanga. Do come through and lets #LeaveNoOneBehind ????\", \"Angry\": 44}, {\"Message\": \"SOUTH AFRICA TO ARREST CITIZENS IN IDF CAPE TOWN, South Africa -- South Africa's foreign minister says her country's citizens who fight in the Israeli armed forces or alongside them in Gaza will be arrested when they return home, deepening the rift between the nations after South Africa lay accusations of genocide against Israel at the United Nations' top court. Foreign Minister Naledi Pandor made the comment earlier this week at a Palestinian solidarity event attended by officials from South Africa's ruling African National Congress party. She also encouraged people to protest outside the embassies of what she called the \\u201cfive primary supporters\\u201d of Israel and its military action in Gaza. She didn\\u2019t name them but almost certainly was referring to the United States, the U.K. and Germany among others. \", \"Angry\": 29}, {\"Message\": \"Bheki Cele\\u2019s press conference on AKA murder an insult to thousands of families whose murders go unsolved Issued by Okkie Terblanche MP \\u2013 Democratic Alliance (DA) Shadow Deputy Minister of Police. Dated 28 February 2024. The Democratic Alliance acknowledges the recent arrests made in connection with the murders of Kiernan \\u2018AKA\\u2019 Forbes and Tebello \\u2018Tibs\\u2019 Motsoane in February of last year. While these high-profile cases have rightfully captured public attention, Police Minister Bheki Cele took the opportunity to score cheap political points by holding a press conference to show South Africa that SAPS is doing its job it is supposed to be doing. Minister Cele, over his disastrous term as Minister of Police, has often chosen to focus on publicity events that will garner him support, rather than fulfil his Constitutional duty of overseeing effective policing in this country. It is an embarrassment that the Minister celebrates the arrests of persons that have taken over a year to conclude, and we trust that the chain of custody of the docket will successfully make its way to the NPA and obtain subsequent convictions against all those involved. Whilst the arrests are welcomed, these professional hitmen have been out on the streets for over a year, with how many other hits having potentially taken place. While Cele takes the opportunity to parade in front of the cameras for a case over a year old, he neglects to tell us of the 27 494 murders that occurred last year, the 25 181 murders the year before, or the 19 972 murders before that, and how these criminals have been brought to book. It is incumbent upon us as a society to ensure that our justice system is equitable and responsive to the needs of all victims, regardless of their status or public prominence. The loss of life due to violence is always a profound tragedy, and every victim deserves equal treatment under the law however, it should never be that mediocrity is celebrated or accepted. PUBLISHED on website for Democratic Alliance (DA) - Newsroom. IMAGE: Supplied DA. #BreakTheSilenceAboutSouthAfrica\", \"Angry\": 21}, {\"Message\": \"R1,500 a month tax on everyone with a job in South Africa \\u2013 funding the National Health Insurance (NHI). Research into the affordability of the NHI shows that every formally employed South African would need to fork over R1,500 a month through a payroll tax to meet the Department of Health\\u2019s funding estimations \\u2013 failing which, a massive 22% VAT or 30%-plus income tax hike would have to cover it. As South Africans wait for President Cyril Ramaphosa to sign the National Health Insurance (NHI) Bill into law, finance experts have reiterated the warning that the scheme \\u2013 in its current form \\u2013 is not economically viable and requires huge sources of funding to make it a reality. Heading into budget week, finance experts at FTI Consulting have highlighted findings from their 2023 NHI Funding \\u2013 Macro Implications report, which explores the various funding mechanisms required to get the universal healthcare plan off the ground. CONTINUED > \", \"Angry\": 20}, {\"Message\": \"As the saying goes ... \\\"Show me your freinds and I will tell you who you are\\\". PART 2 OF 2: South Africa's ANC government has no ties to Hamas, or been in recent contact with it over Israel relations - says Naledi Pandor a South African politician, educator and academic serving as the Minister of International Relations and Cooperation. This comes in response to a set of parliamentary questions posed by the Democratic Alliance (DA) following the 7 October attacks in which over 1,000 Israelis were killed, and which has sparked the Israeli military's relentless retaliatory raids on Gaza. Government insists it has no ties to Palestinian militant group Hamas, neither has it been in any contact with it over relations with Israel. This comes in response to a set of parliamentary questions posed by the Democratic Alliance (DA) following the 7 October attacks in which over 1,000 Israelis were killed, and which has sparked the Israeli military's relentless retaliatory raids on Gaza, as it seeks to flush out its fighters. Minister of International Relations and Cooperation, Naledi Pandor, said neither she nor President Cyril Ramaphosa has made had any form of contact with a Hamas leader in recent years. DA MP Michael Bond has been probing government's relations with Hamas by asking whether the president or any Cabinet member has either called or met with a Hamas leader in either 2022, 2023 or so far, this year. But in reply, International Relations Minister Naledi Pandor stands by her October statement that she took a call from Hamas leader, Ismail Haniyeh, to discuss humanitarian assistance to Palestine. She said that during that call she reiterated South Africa\\u2019s support for Palestinians and the regret for the loss of both Palestinian and Israeli lives. In response to a second question from the DA, Pandor said that neither the president nor any member of Cabinet had met with a Hamas leader to discuss any strategy to assist Hamas or another country, to wage a diplomatic or legal offensive against Israel. To a third question on the matter, Pandor said that government had similarly not met with the governments of Iran or Qatar to assist in waging an offensive against Israel. Earlier this month, the Presidency announced it would be hosting Iran on a state visit that was scheduled for 27 February, but mere hours later said the visit had been called off. Since South Africa declared a genocide dispute against Israel in the International Court of Justice (ICJ) in December, Israel has consistently accused government of being an ally to Hamas, and of shielding the group from accountability for attacks on Israeli citizens. PUBLISHED in Eyewitness news 26 February 2024. IMAGE: Two screen grabs in one picture. #BreakTheSilenceAboutSouthAfrica\", \"Angry\": 19}, {\"Message\": \"(Scroll down for English) President Cyril Ramaphosa se minagtende antwoord oor die ligte straf van ? maandlange skorsing vir adjunkminister Dipuo Peters wys dat die regering geen erns oor korrupsie het nie en dat hy sy kaders skaamteloos beskerm. Peters, tans adjunkminister van kleinsake-ontwikkeling, is onlangs op ernstige klagte vir slegs ? maand geskors weens ? oortreding van die parlement se etiese kode terwyl sy minister van vervoer was. President Ramaphosa se antwoord in vraetyd vandag op die VF Plus se vraag oor die ligte straf, was ontwykend en vaag. Eers n\\u00e1 ? versoek van dr. Groenewald om nie die vraag te omseil nie, het die president geantwoord dat hy op die straf besluit het en dit as voldoende beskou. Hierdie houding van die president wys dat die ANC sy morele kompas totaal verloor het. Die parlement se gesamentlike komitee oor etiek en ledebelange het onder meer bevind dat Peters versuim het om ? uitvoerende hoof vir die Passasiersspooragentskap van Suid-Afrika (Prasa) aan te stel en dat sy Prasa se raad onder voorsitterskap van Popo Molefe afgedank het nadat hulle ondersoeke na korrupsie ingestel het. (Firing of Prasa board reckless, says chairman Popo Molefe: BusinessLIVE: 9-3-2017.) Sy het ook versuim om die bewering te ondersoek dat Swifambo Rail R79 miljoen van Prasa se geld onregmatig na die ANC se koffers gekanaliseer het en dat sy in 2014 en 2015 Prasa-busse vir ANC-geleenthede gebruik het. Hierdie en ander klagte is ernstig en die president moes haar na regte summier afgedank het n\\u00e1 die aanbeveling van die komitee. Veral die optrede van ? minister of adjunkminister moet ten alle tye bo verdenking wees om nie die publiek se vertroue in die regering te skaad nie. Dit wys dat die regering korrupsie en bedrog sal duld en oortreders selfs sal beskerm solank die ANC daardeur bevoordeel word. Suid-Afrika kan nie bekostig om n\\u00f3g ? termyn onder die bestuur van ? regering van rampokkers te staan nie. - Dr. Pieter Groenewald, VF Plus-leier \\u2014\\u2014\\u2014\\u2014\\u2014\\u2014\\u2014\\u2014\\u2014\\u2014 President\\u2019s response regarding light punishment for Deputy Minister Dipuo Peters demonstrates that ANC embraces corruption: President Cyril Ramaphosa's contemptuous response regarding the light punishment, of a month-long suspension, for Deputy Minister Dipuo Peters demonstrates that government is not serious about eradicating corruption and shamelessly protects its cadres. Despite facing serious charges, Peters, currently serving as the Deputy Minister of Small Business Development, was suspended for only a month for violating Parliament's Ethical Code while serving as Minister of Transport. President Ramaphosa's reply to the FF Plus's question about the light punishment, during today's question-and-answer session, was evasive and vague. Only after Dr Groenewald asked the President not to evade the question, did he respond by saying that he had decided on the punishment and deemed it sufficient. The President's attitude proves that the ANC has totally lost its moral compass. Parliament's Joint Committee on Ethics and Members' Interests found, among other things, that Peters had failed to appoint a CEO for the Passenger Rail Agency of South Africa (PRASA), and that she dismissed the PRASA board chaired by Popo Molefe after it had instituted investigations into corruption. (Firing of Prasa board reckless, says chairman Popo Molefe: BusinessLIVE: 9-3-2017.) She also failed to investigate the allegation that Swifambo Rail unlawfully channelled R79 million in PRASA funds to the ANC's coffers, and she used PRASA buses for ANC events in 2014 and 2015. These and other allegations are serious, and the President should have dismissed her at once based on the Committee's recommendations. The conduct of ministers and deputy ministers should at all times be above reproach so that the public does not lose faith in government. This, however, shows that government will tolerate fraud and corruption, and even protect offenders as long as it benefits the ANC. South Africa cannot afford another term under the rule of a government of gangsters. - Dr. Pieter Groenewald, FF Plus leader\", \"Angry\": 19}, {\"Message\": \"Says Jihadi Pandor.... and I quote > \\\"South Africa does not consider Hamas a terrorist organisation, reiterates Pandor\\\" - End of quote. Pandor was responding to more written Parliamentary questions about the country's support for Palestine amid Israel's continued attack on Gaza. International Relations Minister Naledi Pandor has once again outlined that South Africa does not consider Palestinian military group Hamas as a terrorist organisation. Pandor was responding to more written Parliamentary questions about the country's support for Palestine amid Israel's continued attack on Gaza. There has been a prolonged conflict between Israel and Hamas since the group killed about 1,200 people in southern Israel in October 2023. Since then, Israel has responded with attacks where over 30,000 Palestinians have been killed in air and ground strikes. Democratic Alliance (DA) Member of Parliament (MP) Greg Krumbock asked Pandor in a written question whether it's her department's position to consider Hamas as the legitimate government of the people of Gaza. Krumbock said Hamas has been designated by certain countries like the United States, and the European Union as a terrorist group. However, Pandor stated that South Africa's position on Hamas is in line with the United Nations. She also maintained that there are \\\"open lines of communication\\\" with all Palestinian political formations, including Fatah, and Hamas among others. Pandor also earlier in a separate written reply denied claims that South Africa received money or resources to pursue its case against Israel at the International Court of Justice and that the country was the \\\"legal arm\\\" of Hamas. PUBLISHED here > \", \"Angry\": 17}, {\"Message\": \"Ramaphosa\\u2019s job creation promise just hot air... President Cyril Ramaphosa\\u2019s promise to create 2.5 million job opportunities for the next five years sounds good but is highly unlikely to be fulfilled This is the view of labour lawyer Michael Bagraim, who told eNCA that the Presidential Employment Stimulus is \\u201cquite frankly pie in the sky\\u201d. His comments come after the launch of the ANC\\u2019s election manifesto, in which the ruling party promised voters that it would create 2.5 million work opportunities in the next five years. Bagraim said this is not a new promise, as Rampahosa has made similar commitments in nearly every State of the Nation Address he\\u2019s given. \\u201cLet\\u2019s face it, it\\u2019s a wonderful promise, and it goes a little bit of the way to try and solve some of our unemployment,\\u201d he said. \\u201cThe real problem is that the President\\u2019s promise is not going to be fulfilled. It hasn\\u2019t been fulfilled.\\u201d He said the ANC\\u2019s promise has two major faults that will prevent the party from improving South Africa\\u2019s unemployment rate. The first problem is that the ANC promises to create 2.5 million \\u201cwork opportunities\\u201d \\u2013 not jobs. \\u201cA work opportunity could be 3 days, 5 days, or two months, and we don\\u2019t know what it will pay. We know that the Extended Public Works Program even pays half the minimum wage,\\u201d Bagraim said. \\u201cThe government says it can\\u2019t afford to pay the minimum wage, so it\\u2019s going to probably be that sort of work opportunity which is not a job and is not sustainable.\\u201d The second problem Bagraim identified is that the government is not there to create jobs. Rather, the government is there to create an opportunity for the business community to create jobs. Bagraim explained that everywhere in the world, the business community creates jobs, while the government must create the environment for job creation. \\u201cBy the time the government decides to move away from that concept of government creating jobs, we\\u2019ll be bankrupt, and we almost are,\\u201d he said. \\u201cWe\\u2019ve had now just over 20 years of job losses from year to year, and it\\u2019s sad that that is happening because this is not politics \\u2013 this is the living reality of South Africans,\\u201d he said. \\u201cSo, this whole idea of the Presidential Employment Stimulus is quite frankly pie in the sky. It\\u2019s a little bit like the bullet train or the smart cities.\\u201d The United Nations Development Programme (UNDP) warned last year that South Africa\\u2019s high unemployment rate, particularly among its youth, is a \\u201cticking time bomb\\u201d that could result in social unrest. The UNDP\\u2019s South Africa National Human Development Report for 2022 focused on analysing South Africa\\u2019s youth employability. \\u201cYouth unemployment in South Africa is a multipronged challenge that limits the earning potential of youth, stymies business growth, threatens social cohesion, and puts pressure on public resources,\\u201d the report said. \\u201cThere is no doubt that the high unemployment rate is a ticking time bomb.\\u201d The Spectator Index\\u2019s 2023 youth unemployment rate list reveals that South Africa has the worst youth unemployment among all included countries. South Africa has over 10 million young people aged 15-24 years. Of these, only 2.5 million were in the labour force, either employed or unemployed. PUBLISHED in Daily Investor 3 Mrach 2024. IMAGE: Fair Use. Daily Investor. Used for illustration. #BreakTheSilenceAboutSouthAfrica\", \"Angry\": 16}, {\"Message\": \"Die Suid-Afrika van vandag is \\u2019n heel ander plek as wat dit 30 jaar gelede was, s\\u00ea pres. Cyril Ramaphosa.\", \"Angry\": 16}, {\"Message\": \"[Mening] Intussen, om die gekriminaliseerde staat te voed, militariseer MK Suid-Afrika se liggaamspolitiek met dreigemente van drakoniese nuwe beleide en van ongekende politieke geweld en intimidasie. Lees hier: \", \"Angry\": 15}, {\"Message\": \"RAMAPHOSA SE MOOIPRAATJIES MAAR NET VERKIESINGSBELOFTES Dit is 30 jaar n\\u00e1 Suid-Afrika se eerste demokratiese verkiesing \\u2013 \\u2019n verkiesing wat heelwat Suid-Afrikaners hoop gegee het. Vanjaar is dit weer tyd om \\u2019n kruisie by die stembus te gaan trek en daar kan met reg ges\\u00ea word dat die hoop van 30 jaar gelede nie meer bestaan nie. Lees meer: \", \"Angry\": 13}, {\"Message\": \"4 NEW BILLS PASSED BY PARLIAMENT \\u2013 WITH BIG CHANGES FOR PENSIONS IN SOUTH AFRICA The National Assembly has passed four Bills, with one having a significant impact on South Africa\\u2019s pension system. NA has passed the Revenue Laws Amendment Bill, the Plant Health (Phytosanitary) Bill, the Deeds Registries Amendment Bill, and the Municipal Fiscal Powers and Functions Amendment Bill. The Revenue Laws Amendment Bill, the Plant Health (Phytosanitary) Bill and the Deeds Registries Amendment Bill will head to the National Council of Provinces for concurrence. On the other hand, the Municipal Fiscal Powers and Functions Amendment Bill now only needs the signature of President Cyril Ramaphosa to become law. A breakdown of the Bills can be found below: \", \"Angry\": 13}, {\"Message\": \"South Africa's broke state owned enterprises crying out for a helping hand, would you help them? The South African government needs private sector equity partners to turn around the fortunes of the nation\\u2019s failing state-owned enterprises (SOEs). Speaking to the Sunday Times, Presidential Spokesperson Vincent Magwenya said that the strained fiscus can no longer afford to bail out struggling SOEs. These comments come after it was announced that the deal to sell 51% of South African Airways (SAA) to the Takatso Consortium fell through. The termination of the deal, where the Takataso consortium would pay R51 for the 51% stake before spending R3 billion to recapitalise the airline, was a mutual agreement. Reports show that Takatso wanted the deal terminated due to a change in its structure after the airline\\u2019s valuation rose from R2.4 billion during Covid-19 to a current value of R6.5 billion. There was also disagreement within the government, with the SACP, COSATU and factions of the ANC fighting against the privatisation of the SOE. \\u201cThere is still an intention, more broadly speaking, to have strategic partners to work together with government in the process of turning around struggling and ailing SOEs,\\u201d said Magwenya to the Sunday Times. \\u201cWhat has never been the policy or an intention is what people who distort this process will say, that there is an intention just out of the blue to go into a wholesale selloff of state assets.\\u201d Other successes Despite the internal disagreements of the SAA sale, there was less pushback against privatising part of the Durban port, with an agreement that expertise and cash are needed amid Transnet\\u2019s woes. Transnet will also provide a draft of its network statement in the next few days, allowing private companies to use its rail network of over 20,000 km. The plan is to get private trains onto the tracks in the second half of the year. The failure to export commodities has severely hampered South Africa\\u2019s growth prospects. National Assembly also recently passed the Electricity Regulation Amendment Act, which Mineral Resources and Energy Minister Gwede Mantashe said will radically transform the electricity sector. The Bill will create an open market platform for competitive electricity trading, essentially ending Eskom\\u2019s monopoly over generation \\u2013 whose failures are a primary cause of load shedding. It also provides for the Transmission Systems Operator (TSO) to act as a wheeler and dealer of electricity. It also strengthens the role of the National Energy Regulator of South Africa (NERSA) in licensing entities that wish to enter the generation market and providing regulatory oversight during the transition. PUBLISHED in Businesstech 17 March 2024. IMAGE: Supplied Businesstech and used for illustration. Fair Use. #BreakTheSilenceAboutSouthAfrica\", \"Angry\": 12}]}}, {\"mode\": \"vega-lite\"});\n",
              "</script>"
            ],
            "text/plain": [
              "alt.Chart(...)"
            ]
          },
          "execution_count": 72,
          "metadata": {},
          "output_type": "execute_result"
        }
      ],
      "source": [
        "# Top 15 Messages having received high number of Angry\n",
        "data_Ls=data.pivot_table(values=['Angry'], index='Message', aggfunc=np.sum).reset_index().sort_values('Angry', ascending=False).head(15)\n",
        "alt.Chart(data_Ls).mark_bar().encode(x='Angry', y=alt.Y('Message:N', sort='-x'), color='Message', tooltip=['Message']).interactive()"
      ]
    },
    {
      "cell_type": "code",
      "execution_count": null,
      "metadata": {
        "id": "qzp5r2mMxwo7"
      },
      "outputs": [],
      "source": [
        "## print table with Message and their links\n",
        "table=pd.DataFrame()\n",
        "for i in range(15):\n",
        "    table.loc[i, 'Message']=data_Ls.reset_index().drop('index', axis=1).loc[i, 'Message']\n",
        "    k=data_Ls.reset_index().drop('index', axis=1).loc[i, 'Message']\n",
        "    l=data[data['Message']==k]['URL'].tolist()\n",
        "    table.loc[i, 'Link']=l[0]# you can take every number in range(len(l)) incase an url doesn't open\n",
        "table"
      ]
    },
    {
      "cell_type": "code",
      "execution_count": null,
      "metadata": {
        "id": "VAuJWIxsxwo7",
        "outputId": "633bf21b-51f7-4fcb-ff45-912035bbb3c2"
      },
      "outputs": [
        {
          "name": "stderr",
          "output_type": "stream",
          "text": [
            "C:\\Users\\Heineken\\AppData\\Local\\Temp\\ipykernel_10928\\2079502159.py:2: FutureWarning: The provided callable <function sum at 0x000001FEFDE2CCC0> is currently using DataFrameGroupBy.sum. In a future version of pandas, the provided callable will be used directly. To keep current behavior pass the string \"sum\" instead.\n",
            "  data_Ls=data.pivot_table(values=['Count'], index='Page Admin Top Country', aggfunc=np.sum).reset_index().sort_values('Count', ascending=False).head(15)\n",
            "C:\\Users\\Heineken\\anaconda3\\Lib\\site-packages\\altair\\utils\\core.py:395: FutureWarning: the convert_dtype parameter is deprecated and will be removed in a future version.  Do ``ser.astype(object).apply()`` instead if you want ``convert_dtype=False``.\n",
            "  col = df[col_name].apply(to_list_if_array, convert_dtype=False)\n"
          ]
        },
        {
          "data": {
            "text/html": [
              "\n",
              "<style>\n",
              "  #altair-viz-c8a1e914cd5747099a2de4436086e9c7.vega-embed {\n",
              "    width: 100%;\n",
              "    display: flex;\n",
              "  }\n",
              "\n",
              "  #altair-viz-c8a1e914cd5747099a2de4436086e9c7.vega-embed details,\n",
              "  #altair-viz-c8a1e914cd5747099a2de4436086e9c7.vega-embed details summary {\n",
              "    position: relative;\n",
              "  }\n",
              "</style>\n",
              "<div id=\"altair-viz-c8a1e914cd5747099a2de4436086e9c7\"></div>\n",
              "<script type=\"text/javascript\">\n",
              "  var VEGA_DEBUG = (typeof VEGA_DEBUG == \"undefined\") ? {} : VEGA_DEBUG;\n",
              "  (function(spec, embedOpt){\n",
              "    let outputDiv = document.currentScript.previousElementSibling;\n",
              "    if (outputDiv.id !== \"altair-viz-c8a1e914cd5747099a2de4436086e9c7\") {\n",
              "      outputDiv = document.getElementById(\"altair-viz-c8a1e914cd5747099a2de4436086e9c7\");\n",
              "    }\n",
              "    const paths = {\n",
              "      \"vega\": \"https://cdn.jsdelivr.net/npm/vega@5?noext\",\n",
              "      \"vega-lib\": \"https://cdn.jsdelivr.net/npm/vega-lib?noext\",\n",
              "      \"vega-lite\": \"https://cdn.jsdelivr.net/npm/vega-lite@5.8.0?noext\",\n",
              "      \"vega-embed\": \"https://cdn.jsdelivr.net/npm/vega-embed@6?noext\",\n",
              "    };\n",
              "\n",
              "    function maybeLoadScript(lib, version) {\n",
              "      var key = `${lib.replace(\"-\", \"\")}_version`;\n",
              "      return (VEGA_DEBUG[key] == version) ?\n",
              "        Promise.resolve(paths[lib]) :\n",
              "        new Promise(function(resolve, reject) {\n",
              "          var s = document.createElement('script');\n",
              "          document.getElementsByTagName(\"head\")[0].appendChild(s);\n",
              "          s.async = true;\n",
              "          s.onload = () => {\n",
              "            VEGA_DEBUG[key] = version;\n",
              "            return resolve(paths[lib]);\n",
              "          };\n",
              "          s.onerror = () => reject(`Error loading script: ${paths[lib]}`);\n",
              "          s.src = paths[lib];\n",
              "        });\n",
              "    }\n",
              "\n",
              "    function showError(err) {\n",
              "      outputDiv.innerHTML = `<div class=\"error\" style=\"color:red;\">${err}</div>`;\n",
              "      throw err;\n",
              "    }\n",
              "\n",
              "    function displayChart(vegaEmbed) {\n",
              "      vegaEmbed(outputDiv, spec, embedOpt)\n",
              "        .catch(err => showError(`Javascript Error: ${err.message}<br>This usually means there's a typo in your chart specification. See the javascript console for the full traceback.`));\n",
              "    }\n",
              "\n",
              "    if(typeof define === \"function\" && define.amd) {\n",
              "      requirejs.config({paths});\n",
              "      require([\"vega-embed\"], displayChart, err => showError(`Error loading script: ${err.message}`));\n",
              "    } else {\n",
              "      maybeLoadScript(\"vega\", \"5\")\n",
              "        .then(() => maybeLoadScript(\"vega-lite\", \"5.8.0\"))\n",
              "        .then(() => maybeLoadScript(\"vega-embed\", \"6\"))\n",
              "        .catch(showError)\n",
              "        .then(() => displayChart(vegaEmbed));\n",
              "    }\n",
              "  })({\"config\": {\"view\": {\"continuousWidth\": 300, \"continuousHeight\": 300}}, \"data\": {\"name\": \"data-a180f2a536dded06b1899f82f3770281\"}, \"mark\": {\"type\": \"bar\"}, \"encoding\": {\"color\": {\"field\": \"Page Admin Top Country\", \"type\": \"nominal\"}, \"tooltip\": [{\"field\": \"Page Admin Top Country\", \"type\": \"nominal\"}], \"x\": {\"field\": \"Count\", \"type\": \"quantitative\"}, \"y\": {\"field\": \"Page Admin Top Country\", \"sort\": \"-x\", \"type\": \"nominal\"}}, \"params\": [{\"name\": \"param_10\", \"select\": {\"type\": \"interval\", \"encodings\": [\"x\", \"y\"]}, \"bind\": \"scales\"}], \"$schema\": \"https://vega.github.io/schema/vega-lite/v5.8.0.json\", \"datasets\": {\"data-a180f2a536dded06b1899f82f3770281\": [{\"Page Admin Top Country\": \"ZA\", \"Count\": 1673.0}, {\"Page Admin Top Country\": \"US\", \"Count\": 104.0}, {\"Page Admin Top Country\": \"GB\", \"Count\": 96.0}, {\"Page Admin Top Country\": \"NG\", \"Count\": 88.0}, {\"Page Admin Top Country\": \"KE\", \"Count\": 36.0}, {\"Page Admin Top Country\": \"GH\", \"Count\": 28.0}, {\"Page Admin Top Country\": \"ZM\", \"Count\": 22.0}, {\"Page Admin Top Country\": \"TZ\", \"Count\": 21.0}, {\"Page Admin Top Country\": \"MZ\", \"Count\": 20.0}, {\"Page Admin Top Country\": \"IT\", \"Count\": 20.0}, {\"Page Admin Top Country\": \"ZW\", \"Count\": 17.0}, {\"Page Admin Top Country\": \"IN\", \"Count\": 16.0}, {\"Page Admin Top Country\": \"AU\", \"Count\": 15.0}, {\"Page Admin Top Country\": \"DE\", \"Count\": 14.0}, {\"Page Admin Top Country\": \"CA\", \"Count\": 12.0}]}}, {\"mode\": \"vega-lite\"});\n",
              "</script>"
            ],
            "text/plain": [
              "alt.Chart(...)"
            ]
          },
          "execution_count": 74,
          "metadata": {},
          "output_type": "execute_result"
        }
      ],
      "source": [
        "# Top 15 Page Admin Top Country\n",
        "data_Ls=data.pivot_table(values=['Count'], index='Page Admin Top Country', aggfunc=np.sum).reset_index().sort_values('Count', ascending=False).head(15)\n",
        "alt.Chart(data_Ls).mark_bar().encode(x='Count', y=alt.Y('Page Admin Top Country:N', sort='-x'), color='Page Admin Top Country', tooltip=['Page Admin Top Country']).interactive()"
      ]
    },
    {
      "cell_type": "code",
      "execution_count": null,
      "metadata": {
        "id": "6w_jfh0ixwo7",
        "outputId": "a68d5df7-277d-4a7d-a662-ae80a08c8e71"
      },
      "outputs": [
        {
          "name": "stderr",
          "output_type": "stream",
          "text": [
            "C:\\Users\\Heineken\\AppData\\Local\\Temp\\ipykernel_10928\\2677995958.py:2: FutureWarning: The provided callable <function sum at 0x000001FEFDE2CCC0> is currently using DataFrameGroupBy.sum. In a future version of pandas, the provided callable will be used directly. To keep current behavior pass the string \"sum\" instead.\n",
            "  data_Ls=data.pivot_table(values=['Count'], index='Page Name', aggfunc=np.sum).reset_index().sort_values('Count', ascending=False).head(15)\n",
            "C:\\Users\\Heineken\\anaconda3\\Lib\\site-packages\\altair\\utils\\core.py:395: FutureWarning: the convert_dtype parameter is deprecated and will be removed in a future version.  Do ``ser.astype(object).apply()`` instead if you want ``convert_dtype=False``.\n",
            "  col = df[col_name].apply(to_list_if_array, convert_dtype=False)\n"
          ]
        },
        {
          "data": {
            "text/html": [
              "\n",
              "<style>\n",
              "  #altair-viz-659644d7b1e74f5abe15a6b96988e683.vega-embed {\n",
              "    width: 100%;\n",
              "    display: flex;\n",
              "  }\n",
              "\n",
              "  #altair-viz-659644d7b1e74f5abe15a6b96988e683.vega-embed details,\n",
              "  #altair-viz-659644d7b1e74f5abe15a6b96988e683.vega-embed details summary {\n",
              "    position: relative;\n",
              "  }\n",
              "</style>\n",
              "<div id=\"altair-viz-659644d7b1e74f5abe15a6b96988e683\"></div>\n",
              "<script type=\"text/javascript\">\n",
              "  var VEGA_DEBUG = (typeof VEGA_DEBUG == \"undefined\") ? {} : VEGA_DEBUG;\n",
              "  (function(spec, embedOpt){\n",
              "    let outputDiv = document.currentScript.previousElementSibling;\n",
              "    if (outputDiv.id !== \"altair-viz-659644d7b1e74f5abe15a6b96988e683\") {\n",
              "      outputDiv = document.getElementById(\"altair-viz-659644d7b1e74f5abe15a6b96988e683\");\n",
              "    }\n",
              "    const paths = {\n",
              "      \"vega\": \"https://cdn.jsdelivr.net/npm/vega@5?noext\",\n",
              "      \"vega-lib\": \"https://cdn.jsdelivr.net/npm/vega-lib?noext\",\n",
              "      \"vega-lite\": \"https://cdn.jsdelivr.net/npm/vega-lite@5.8.0?noext\",\n",
              "      \"vega-embed\": \"https://cdn.jsdelivr.net/npm/vega-embed@6?noext\",\n",
              "    };\n",
              "\n",
              "    function maybeLoadScript(lib, version) {\n",
              "      var key = `${lib.replace(\"-\", \"\")}_version`;\n",
              "      return (VEGA_DEBUG[key] == version) ?\n",
              "        Promise.resolve(paths[lib]) :\n",
              "        new Promise(function(resolve, reject) {\n",
              "          var s = document.createElement('script');\n",
              "          document.getElementsByTagName(\"head\")[0].appendChild(s);\n",
              "          s.async = true;\n",
              "          s.onload = () => {\n",
              "            VEGA_DEBUG[key] = version;\n",
              "            return resolve(paths[lib]);\n",
              "          };\n",
              "          s.onerror = () => reject(`Error loading script: ${paths[lib]}`);\n",
              "          s.src = paths[lib];\n",
              "        });\n",
              "    }\n",
              "\n",
              "    function showError(err) {\n",
              "      outputDiv.innerHTML = `<div class=\"error\" style=\"color:red;\">${err}</div>`;\n",
              "      throw err;\n",
              "    }\n",
              "\n",
              "    function displayChart(vegaEmbed) {\n",
              "      vegaEmbed(outputDiv, spec, embedOpt)\n",
              "        .catch(err => showError(`Javascript Error: ${err.message}<br>This usually means there's a typo in your chart specification. See the javascript console for the full traceback.`));\n",
              "    }\n",
              "\n",
              "    if(typeof define === \"function\" && define.amd) {\n",
              "      requirejs.config({paths});\n",
              "      require([\"vega-embed\"], displayChart, err => showError(`Error loading script: ${err.message}`));\n",
              "    } else {\n",
              "      maybeLoadScript(\"vega\", \"5\")\n",
              "        .then(() => maybeLoadScript(\"vega-lite\", \"5.8.0\"))\n",
              "        .then(() => maybeLoadScript(\"vega-embed\", \"6\"))\n",
              "        .catch(showError)\n",
              "        .then(() => displayChart(vegaEmbed));\n",
              "    }\n",
              "  })({\"config\": {\"view\": {\"continuousWidth\": 300, \"continuousHeight\": 300}}, \"data\": {\"name\": \"data-e4434d482cc6991d36bf7134f527f76c\"}, \"mark\": {\"type\": \"bar\"}, \"encoding\": {\"color\": {\"field\": \"Page Name\", \"type\": \"nominal\"}, \"tooltip\": [{\"field\": \"Page Name\", \"type\": \"nominal\"}], \"x\": {\"field\": \"Count\", \"type\": \"quantitative\"}, \"y\": {\"field\": \"Page Name\", \"sort\": \"-x\", \"type\": \"nominal\"}}, \"params\": [{\"name\": \"param_11\", \"select\": {\"type\": \"interval\", \"encodings\": [\"x\", \"y\"]}, \"bind\": \"scales\"}], \"$schema\": \"https://vega.github.io/schema/vega-lite/v5.8.0.json\", \"datasets\": {\"data-e4434d482cc6991d36bf7134f527f76c\": [{\"Page Name\": \"Mzwanele Manyi and debaters\", \"Count\": 87.0}, {\"Page Name\": \"Letters From The Persecuted Minority of South Africa\", \"Count\": 73.0}, {\"Page Name\": \"UNITE IN POLITICS ????\", \"Count\": 72.0}, {\"Page Name\": \"The Defenders of Jacob Zuma\", \"Count\": 69.0}, {\"Page Name\": \"Central News\", \"Count\": 53.0}, {\"Page Name\": \"Break The Silence About South Africa\", \"Count\": 53.0}, {\"Page Name\": \"Mzo Zuma job opportunities\", \"Count\": 44.0}, {\"Page Name\": \"Mzo Zuma job blog\", \"Count\": 44.0}, {\"Page Name\": \"World Round-up on the News Front With All Of Us\", \"Count\": 38.0}, {\"Page Name\": \"Feite in perspektief\", \"Count\": 35.0}, {\"Page Name\": \"CGN CRIME\", \"Count\": 32.0}, {\"Page Name\": \"All Namibian News\", \"Count\": 31.0}, {\"Page Name\": \"Guardians for the Valley/ South Africa\", \"Count\": 29.0}, {\"Page Name\": \"Economic Freedom Fighters\", \"Count\": 29.0}, {\"Page Name\": \"Democratic Alliance Western Cape\", \"Count\": 29.0}]}}, {\"mode\": \"vega-lite\"});\n",
              "</script>"
            ],
            "text/plain": [
              "alt.Chart(...)"
            ]
          },
          "execution_count": 75,
          "metadata": {},
          "output_type": "execute_result"
        }
      ],
      "source": [
        "# Top 15 Most Active Pages about the topic and in the considered period we r looking for\n",
        "data_Ls=data.pivot_table(values=['Count'], index='Page Name', aggfunc=np.sum).reset_index().sort_values('Count', ascending=False).head(15)\n",
        "alt.Chart(data_Ls).mark_bar().encode(x='Count', y=alt.Y('Page Name:N', sort='-x'), color='Page Name', tooltip=['Page Name']).interactive()"
      ]
    },
    {
      "cell_type": "code",
      "execution_count": null,
      "metadata": {
        "id": "vitDUibjxwo7",
        "outputId": "6ccab9c2-2163-492e-e89b-fe9c58010cbe"
      },
      "outputs": [
        {
          "name": "stderr",
          "output_type": "stream",
          "text": [
            "C:\\Users\\Heineken\\AppData\\Local\\Temp\\ipykernel_10928\\4265378987.py:2: FutureWarning: The provided callable <function sum at 0x000001FEFDE2CCC0> is currently using DataFrameGroupBy.sum. In a future version of pandas, the provided callable will be used directly. To keep current behavior pass the string \"sum\" instead.\n",
            "  data_Ls=data.pivot_table(values=['Count'], index='Link', aggfunc=np.sum).reset_index().sort_values('Count', ascending=False).head(15)\n",
            "C:\\Users\\Heineken\\anaconda3\\Lib\\site-packages\\altair\\utils\\core.py:395: FutureWarning: the convert_dtype parameter is deprecated and will be removed in a future version.  Do ``ser.astype(object).apply()`` instead if you want ``convert_dtype=False``.\n",
            "  col = df[col_name].apply(to_list_if_array, convert_dtype=False)\n"
          ]
        },
        {
          "data": {
            "text/html": [
              "\n",
              "<style>\n",
              "  #altair-viz-8ced094b87ef44f594aff8fe9270e7bf.vega-embed {\n",
              "    width: 100%;\n",
              "    display: flex;\n",
              "  }\n",
              "\n",
              "  #altair-viz-8ced094b87ef44f594aff8fe9270e7bf.vega-embed details,\n",
              "  #altair-viz-8ced094b87ef44f594aff8fe9270e7bf.vega-embed details summary {\n",
              "    position: relative;\n",
              "  }\n",
              "</style>\n",
              "<div id=\"altair-viz-8ced094b87ef44f594aff8fe9270e7bf\"></div>\n",
              "<script type=\"text/javascript\">\n",
              "  var VEGA_DEBUG = (typeof VEGA_DEBUG == \"undefined\") ? {} : VEGA_DEBUG;\n",
              "  (function(spec, embedOpt){\n",
              "    let outputDiv = document.currentScript.previousElementSibling;\n",
              "    if (outputDiv.id !== \"altair-viz-8ced094b87ef44f594aff8fe9270e7bf\") {\n",
              "      outputDiv = document.getElementById(\"altair-viz-8ced094b87ef44f594aff8fe9270e7bf\");\n",
              "    }\n",
              "    const paths = {\n",
              "      \"vega\": \"https://cdn.jsdelivr.net/npm/vega@5?noext\",\n",
              "      \"vega-lib\": \"https://cdn.jsdelivr.net/npm/vega-lib?noext\",\n",
              "      \"vega-lite\": \"https://cdn.jsdelivr.net/npm/vega-lite@5.8.0?noext\",\n",
              "      \"vega-embed\": \"https://cdn.jsdelivr.net/npm/vega-embed@6?noext\",\n",
              "    };\n",
              "\n",
              "    function maybeLoadScript(lib, version) {\n",
              "      var key = `${lib.replace(\"-\", \"\")}_version`;\n",
              "      return (VEGA_DEBUG[key] == version) ?\n",
              "        Promise.resolve(paths[lib]) :\n",
              "        new Promise(function(resolve, reject) {\n",
              "          var s = document.createElement('script');\n",
              "          document.getElementsByTagName(\"head\")[0].appendChild(s);\n",
              "          s.async = true;\n",
              "          s.onload = () => {\n",
              "            VEGA_DEBUG[key] = version;\n",
              "            return resolve(paths[lib]);\n",
              "          };\n",
              "          s.onerror = () => reject(`Error loading script: ${paths[lib]}`);\n",
              "          s.src = paths[lib];\n",
              "        });\n",
              "    }\n",
              "\n",
              "    function showError(err) {\n",
              "      outputDiv.innerHTML = `<div class=\"error\" style=\"color:red;\">${err}</div>`;\n",
              "      throw err;\n",
              "    }\n",
              "\n",
              "    function displayChart(vegaEmbed) {\n",
              "      vegaEmbed(outputDiv, spec, embedOpt)\n",
              "        .catch(err => showError(`Javascript Error: ${err.message}<br>This usually means there's a typo in your chart specification. See the javascript console for the full traceback.`));\n",
              "    }\n",
              "\n",
              "    if(typeof define === \"function\" && define.amd) {\n",
              "      requirejs.config({paths});\n",
              "      require([\"vega-embed\"], displayChart, err => showError(`Error loading script: ${err.message}`));\n",
              "    } else {\n",
              "      maybeLoadScript(\"vega\", \"5\")\n",
              "        .then(() => maybeLoadScript(\"vega-lite\", \"5.8.0\"))\n",
              "        .then(() => maybeLoadScript(\"vega-embed\", \"6\"))\n",
              "        .catch(showError)\n",
              "        .then(() => displayChart(vegaEmbed));\n",
              "    }\n",
              "  })({\"config\": {\"view\": {\"continuousWidth\": 300, \"continuousHeight\": 300}}, \"data\": {\"name\": \"data-bf455ee0129775e0cbf0a783f810ee1f\"}, \"mark\": {\"type\": \"bar\"}, \"encoding\": {\"color\": {\"field\": \"Link\", \"type\": \"nominal\"}, \"tooltip\": [{\"field\": \"Link\", \"type\": \"nominal\"}], \"x\": {\"field\": \"Count\", \"type\": \"quantitative\"}, \"y\": {\"field\": \"Link\", \"sort\": \"-x\", \"type\": \"nominal\"}}, \"params\": [{\"name\": \"param_12\", \"select\": {\"type\": \"interval\", \"encodings\": [\"x\", \"y\"]}, \"bind\": \"scales\"}], \"$schema\": \"https://vega.github.io/schema/vega-lite/v5.8.0.json\", \"datasets\": {\"data-bf455ee0129775e0cbf0a783f810ee1f\": [{\"Link\": \"https://youtu.be/X3y8S-mC3jE?si=nyREtU6f69MMHeYv\", \"Count\": 47.0}, {\"Link\": \"https://www.facebook.com/photo.php?fbid=122133514814143248&set=p.122133514814143248&type=3\", \"Count\": 39.0}, {\"Link\": \"https://www.facebook.com/differentofficialpage/videos/1315871509097596/\", \"Count\": 35.0}, {\"Link\": \"https://www.facebook.com/photo.php?fbid=395768849865228&set=a.111744878267628&type=3\", \"Count\": 33.0}, {\"Link\": \"https://www.musicinafrica.net/directory/amlai-da-song\", \"Count\": 26.0}, {\"Link\": \"https://www.facebook.com/Kingtafarix/videos/723959626588892/\", \"Count\": 26.0}, {\"Link\": \"https://globepost.co.za/2024/02/20/president-ramaphosa-announces-2024-general-elections-date/\", \"Count\": 25.0}, {\"Link\": \"https://youtube.com/watch?v=_O0nrpuCPwA&si=rb838ObthAiPXRZZ\", \"Count\": 22.0}, {\"Link\": \"https://www.facebook.com/PregadorEConferencistaInternacional/videos/944606447054858/\", \"Count\": 20.0}, {\"Link\": \"https://www.facebook.com/photo.php?fbid=7013367505428805&set=p.7013367505428805&type=3\", \"Count\": 18.0}, {\"Link\": \"https://www.facebook.com/photo.php?fbid=439935495038660&set=gm.2445210799017218&type=3\", \"Count\": 17.0}, {\"Link\": \"https://www.facebook.com/photo.php?fbid=791428139685078&set=a.627553166072577&type=3\", \"Count\": 16.0}, {\"Link\": \"https://www.facebook.com/photo.php?fbid=416375354207713&set=p.416375354207713&type=3\", \"Count\": 16.0}, {\"Link\": \"https://www.youtube.com/watch?v=87fyilgnwng\", \"Count\": 15.0}, {\"Link\": \"https://www.facebook.com/photo.php?fbid=735125442139077&set=a.231545489163744&type=3\", \"Count\": 14.0}]}}, {\"mode\": \"vega-lite\"});\n",
              "</script>"
            ],
            "text/plain": [
              "alt.Chart(...)"
            ]
          },
          "execution_count": 76,
          "metadata": {},
          "output_type": "execute_result"
        }
      ],
      "source": [
        "# Top 15 Most Active Page links about the topic and in the considered period we r looking for\n",
        "data_Ls=data.pivot_table(values=['Count'], index='Link', aggfunc=np.sum).reset_index().sort_values('Count', ascending=False).head(15)\n",
        "alt.Chart(data_Ls).mark_bar().encode(x='Count', y=alt.Y('Link:N', sort='-x'), color='Link', tooltip=['Link']).interactive()"
      ]
    },
    {
      "cell_type": "markdown",
      "source": [
        "**Text Similarity**"
      ],
      "metadata": {
        "id": "KzhUpws5007s"
      }
    },
    {
      "cell_type": "code",
      "execution_count": null,
      "metadata": {
        "id": "S_FPutfIxwo8"
      },
      "outputs": [],
      "source": [
        "text_column = \"Message\"  # posts\n",
        "posts = data[text_column]"
      ]
    },
    {
      "cell_type": "code",
      "execution_count": null,
      "metadata": {
        "id": "FPzPwWnJxwo8"
      },
      "outputs": [],
      "source": [
        "from nltk.corpus import stopwords\n",
        "from nltk.stem import WordNetLemmatizer\n",
        "stop_words = stopwords.words(\"english\")\n",
        "lemmatizer = WordNetLemmatizer()\n",
        "\n",
        "def preprocess_text(text):\n",
        "  text = text.lower()\n",
        "  text = re.sub(r\"[^a-zA-Z0-9 ]\", \"\", text)  # Remove non-alphanumeric characters\n",
        "  words = [lemmatizer.lemmatize(word) for word in text.split() if word not in stop_words]\n",
        "  return \" \".join(words)\n",
        "\n",
        "posts = posts.apply(preprocess_text)\n"
      ]
    },
    {
      "cell_type": "code",
      "execution_count": null,
      "metadata": {
        "id": "2v4DpUQUxwo8"
      },
      "outputs": [],
      "source": [
        "from sklearn.feature_extraction.text import TfidfVectorizer\n",
        "\n",
        "vectorizer = TfidfVectorizer(max_features=10000)  # Adjust max_features as needed\n",
        "features = vectorizer.fit_transform(posts)"
      ]
    },
    {
      "cell_type": "code",
      "execution_count": null,
      "metadata": {
        "id": "CILxZm22xwo8"
      },
      "outputs": [],
      "source": [
        "from sklearn.metrics.pairwise import cosine_similarity\n",
        "\n",
        "similarity_matrix = cosine_similarity(features)"
      ]
    },
    {
      "cell_type": "code",
      "execution_count": null,
      "metadata": {
        "id": "bXkYyAVexwo8",
        "outputId": "c9154f2a-ff67-456b-9737-88c1a2f96216"
      },
      "outputs": [
        {
          "data": {
            "text/html": [
              "<div>\n",
              "<style scoped>\n",
              "    .dataframe tbody tr th:only-of-type {\n",
              "        vertical-align: middle;\n",
              "    }\n",
              "\n",
              "    .dataframe tbody tr th {\n",
              "        vertical-align: top;\n",
              "    }\n",
              "\n",
              "    .dataframe thead th {\n",
              "        text-align: right;\n",
              "    }\n",
              "</style>\n",
              "<table border=\"1\" class=\"dataframe\">\n",
              "  <thead>\n",
              "    <tr style=\"text-align: right;\">\n",
              "      <th></th>\n",
              "      <th>Account</th>\n",
              "      <th>Similar Post Content</th>\n",
              "    </tr>\n",
              "  </thead>\n",
              "  <tbody>\n",
              "    <tr>\n",
              "      <th>0</th>\n",
              "      <td>Istituto della Cultura Italiana di Vienna</td>\n",
              "      <td>LA FURBIZIA DEGLI ANIMALI L'Anthoscopus è uccello che ha sviluppato una tecnica difensiva della prole unica nel suo genere. Per fare ciò ha creato un nido con un ingresso segreto e nascosto. Il fa...</td>\n",
              "    </tr>\n",
              "    <tr>\n",
              "      <th>1</th>\n",
              "      <td>Italiani a Vienna-VIP</td>\n",
              "      <td>LA FURBIZIA DEGLI ANIMALI L'Anthoscopus è uccello che ha sviluppato una tecnica difensiva della prole unica nel suo genere. Per fare ciò ha creato un nido con un ingresso segreto e nascosto. Il fa...</td>\n",
              "    </tr>\n",
              "  </tbody>\n",
              "</table>\n",
              "</div>"
            ],
            "text/plain": [
              "                                     Account  \\\n",
              "0  Istituto della Cultura Italiana di Vienna   \n",
              "1                      Italiani a Vienna-VIP   \n",
              "\n",
              "                                                                                                                                                                                      Similar Post Content  \n",
              "0  LA FURBIZIA DEGLI ANIMALI L'Anthoscopus è uccello che ha sviluppato una tecnica difensiva della prole unica nel suo genere. Per fare ciò ha creato un nido con un ingresso segreto e nascosto. Il fa...  \n",
              "1  LA FURBIZIA DEGLI ANIMALI L'Anthoscopus è uccello che ha sviluppato una tecnica difensiva della prole unica nel suo genere. Per fare ciò ha creato un nido con un ingresso segreto e nascosto. Il fa...  "
            ]
          },
          "execution_count": 97,
          "metadata": {},
          "output_type": "execute_result"
        }
      ],
      "source": [
        "# Feature Engineering (Text Representation)\n",
        "vectorizer = TfidfVectorizer(max_features=10000)  # Adjust max_features as needed\n",
        "features = vectorizer.fit_transform(posts)\n",
        "\n",
        "# Text Similarity Calculation\n",
        "similarity_matrix = cosine_similarity(features)\n",
        "\n",
        "# Identify Similar Content\n",
        "similarity_threshold = 0.7  # Adjust threshold as needed\n",
        "similar_posts = []\n",
        "\n",
        "for i in range(1, len(posts)):\n",
        "  if similarity_matrix[0][i] >= similarity_threshold:\n",
        "    similar_posts.append((data.loc[i, \"Page Name\"], data.loc[i, text_column]))\n",
        "\n",
        "# Create DataFrame to display results\n",
        "data_dict = {\n",
        "    \"Account\": [account for account, _ in similar_posts],\n",
        "    \"Similar Post Content\": [content for _, content in similar_posts]\n",
        "}\n",
        "\n",
        "similar_posts_df = pd.DataFrame(data_dict)\n",
        "\n",
        "# Display DataFrame\n",
        "similar_posts_df"
      ]
    },
    {
      "cell_type": "code",
      "execution_count": null,
      "metadata": {
        "id": "ZdgR_axCxwo8"
      },
      "outputs": [],
      "source": []
    }
  ],
  "metadata": {
    "colab": {
      "provenance": []
    },
    "kernelspec": {
      "display_name": "Python 3 (ipykernel)",
      "language": "python",
      "name": "python3"
    },
    "language_info": {
      "codemirror_mode": {
        "name": "ipython",
        "version": 3
      },
      "file_extension": ".py",
      "mimetype": "text/x-python",
      "name": "python",
      "nbconvert_exporter": "python",
      "pygments_lexer": "ipython3",
      "version": "3.11.7"
    }
  },
  "nbformat": 4,
  "nbformat_minor": 0
}